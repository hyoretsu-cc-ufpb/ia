{
  "cells": [
    {
      "cell_type": "markdown",
      "source": [
        "É preciso rodar, reiniciar e rodar novamente."
      ],
      "metadata": {
        "id": "MlQ95W1Bh1z1"
      }
    },
    {
      "cell_type": "code",
      "execution_count": 1,
      "metadata": {
        "colab": {
          "base_uri": "https://localhost:8080/"
        },
        "id": "tqZg_MlLZ7c0",
        "outputId": "b63d35c7-217f-4390-f363-3f99601637f2"
      },
      "outputs": [
        {
          "output_type": "stream",
          "name": "stdout",
          "text": [
            "Looking in indexes: https://pypi.org/simple, https://us-python.pkg.dev/colab-wheels/public/simple/\n",
            "Requirement already satisfied: auto-sklearn in /usr/local/lib/python3.7/dist-packages (0.14.7)\n",
            "Requirement already satisfied: scipy>=1.7.0 in /usr/local/lib/python3.7/dist-packages (from auto-sklearn) (1.7.3)\n",
            "Requirement already satisfied: scikit-learn<0.25.0,>=0.24.0 in /usr/local/lib/python3.7/dist-packages (from auto-sklearn) (0.24.2)\n",
            "Requirement already satisfied: setuptools in /usr/local/lib/python3.7/dist-packages (from auto-sklearn) (57.4.0)\n",
            "Requirement already satisfied: numpy>=1.9.0 in /usr/local/lib/python3.7/dist-packages (from auto-sklearn) (1.21.6)\n",
            "Requirement already satisfied: joblib in /usr/local/lib/python3.7/dist-packages (from auto-sklearn) (1.1.0)\n",
            "Requirement already satisfied: pandas>=1.0 in /usr/local/lib/python3.7/dist-packages (from auto-sklearn) (1.3.5)\n",
            "Requirement already satisfied: typing-extensions in /usr/local/lib/python3.7/dist-packages (from auto-sklearn) (4.2.0)\n",
            "Requirement already satisfied: distro in /usr/local/lib/python3.7/dist-packages (from auto-sklearn) (1.7.0)\n",
            "Requirement already satisfied: threadpoolctl in /usr/local/lib/python3.7/dist-packages (from auto-sklearn) (3.1.0)\n",
            "Requirement already satisfied: pyrfr<0.9,>=0.8.1 in /usr/local/lib/python3.7/dist-packages (from auto-sklearn) (0.8.2)\n",
            "Requirement already satisfied: smac<1.3,>=1.2 in /usr/local/lib/python3.7/dist-packages (from auto-sklearn) (1.2)\n",
            "Requirement already satisfied: dask>=2021.12 in /usr/local/lib/python3.7/dist-packages (from auto-sklearn) (2022.2.0)\n",
            "Requirement already satisfied: distributed>=2012.12 in /usr/local/lib/python3.7/dist-packages (from auto-sklearn) (2022.2.0)\n",
            "Requirement already satisfied: ConfigSpace<0.5,>=0.4.21 in /usr/local/lib/python3.7/dist-packages (from auto-sklearn) (0.4.21)\n",
            "Requirement already satisfied: pyyaml in /usr/local/lib/python3.7/dist-packages (from auto-sklearn) (6.0)\n",
            "Requirement already satisfied: liac-arff in /usr/local/lib/python3.7/dist-packages (from auto-sklearn) (2.5.0)\n",
            "Requirement already satisfied: pynisher<0.7,>=0.6.3 in /usr/local/lib/python3.7/dist-packages (from auto-sklearn) (0.6.4)\n",
            "Requirement already satisfied: cython in /usr/local/lib/python3.7/dist-packages (from ConfigSpace<0.5,>=0.4.21->auto-sklearn) (0.29.30)\n",
            "Requirement already satisfied: pyparsing in /usr/local/lib/python3.7/dist-packages (from ConfigSpace<0.5,>=0.4.21->auto-sklearn) (3.0.9)\n",
            "Requirement already satisfied: cloudpickle>=1.1.1 in /usr/local/lib/python3.7/dist-packages (from dask>=2021.12->auto-sklearn) (2.1.0)\n",
            "Requirement already satisfied: packaging>=20.0 in /usr/local/lib/python3.7/dist-packages (from dask>=2021.12->auto-sklearn) (21.3)\n",
            "Requirement already satisfied: partd>=0.3.10 in /usr/local/lib/python3.7/dist-packages (from dask>=2021.12->auto-sklearn) (1.2.0)\n",
            "Requirement already satisfied: fsspec>=0.6.0 in /usr/local/lib/python3.7/dist-packages (from dask>=2021.12->auto-sklearn) (2022.5.0)\n",
            "Requirement already satisfied: toolz>=0.8.2 in /usr/local/lib/python3.7/dist-packages (from dask>=2021.12->auto-sklearn) (0.11.2)\n",
            "Requirement already satisfied: tornado>=5 in /usr/local/lib/python3.7/dist-packages (from distributed>=2012.12->auto-sklearn) (5.1.1)\n",
            "Requirement already satisfied: psutil>=5.0 in /usr/local/lib/python3.7/dist-packages (from distributed>=2012.12->auto-sklearn) (5.4.8)\n",
            "Requirement already satisfied: zict>=0.1.3 in /usr/local/lib/python3.7/dist-packages (from distributed>=2012.12->auto-sklearn) (2.2.0)\n",
            "Requirement already satisfied: click>=6.6 in /usr/local/lib/python3.7/dist-packages (from distributed>=2012.12->auto-sklearn) (7.1.2)\n",
            "Requirement already satisfied: tblib>=1.6.0 in /usr/local/lib/python3.7/dist-packages (from distributed>=2012.12->auto-sklearn) (1.7.0)\n",
            "Requirement already satisfied: sortedcontainers!=2.0.0,!=2.0.1 in /usr/local/lib/python3.7/dist-packages (from distributed>=2012.12->auto-sklearn) (2.4.0)\n",
            "Requirement already satisfied: jinja2 in /usr/local/lib/python3.7/dist-packages (from distributed>=2012.12->auto-sklearn) (2.11.3)\n",
            "Requirement already satisfied: msgpack>=0.6.0 in /usr/local/lib/python3.7/dist-packages (from distributed>=2012.12->auto-sklearn) (1.0.3)\n",
            "Requirement already satisfied: pytz>=2017.3 in /usr/local/lib/python3.7/dist-packages (from pandas>=1.0->auto-sklearn) (2022.1)\n",
            "Requirement already satisfied: python-dateutil>=2.7.3 in /usr/local/lib/python3.7/dist-packages (from pandas>=1.0->auto-sklearn) (2.8.2)\n",
            "Requirement already satisfied: locket in /usr/local/lib/python3.7/dist-packages (from partd>=0.3.10->dask>=2021.12->auto-sklearn) (1.0.0)\n",
            "Requirement already satisfied: six>=1.5 in /usr/local/lib/python3.7/dist-packages (from python-dateutil>=2.7.3->pandas>=1.0->auto-sklearn) (1.15.0)\n",
            "Requirement already satisfied: emcee>=3.0.0 in /usr/local/lib/python3.7/dist-packages (from smac<1.3,>=1.2->auto-sklearn) (3.1.2)\n",
            "Requirement already satisfied: heapdict in /usr/local/lib/python3.7/dist-packages (from zict>=0.1.3->distributed>=2012.12->auto-sklearn) (1.0.1)\n",
            "Requirement already satisfied: MarkupSafe>=0.23 in /usr/local/lib/python3.7/dist-packages (from jinja2->distributed>=2012.12->auto-sklearn) (2.0.1)\n",
            "Looking in indexes: https://pypi.org/simple, https://us-python.pkg.dev/colab-wheels/public/simple/\n",
            "Requirement already satisfied: imbalanced-learn in /usr/local/lib/python3.7/dist-packages (0.8.1)\n",
            "Requirement already satisfied: scikit-learn>=0.24 in /usr/local/lib/python3.7/dist-packages (from imbalanced-learn) (0.24.2)\n",
            "Requirement already satisfied: numpy>=1.13.3 in /usr/local/lib/python3.7/dist-packages (from imbalanced-learn) (1.21.6)\n",
            "Requirement already satisfied: scipy>=0.19.1 in /usr/local/lib/python3.7/dist-packages (from imbalanced-learn) (1.7.3)\n",
            "Requirement already satisfied: joblib>=0.11 in /usr/local/lib/python3.7/dist-packages (from imbalanced-learn) (1.1.0)\n",
            "Requirement already satisfied: threadpoolctl>=2.0.0 in /usr/local/lib/python3.7/dist-packages (from scikit-learn>=0.24->imbalanced-learn) (3.1.0)\n"
          ]
        }
      ],
      "source": [
        "!pip install auto-sklearn\n",
        "!pip install imbalanced-learn"
      ]
    },
    {
      "cell_type": "markdown",
      "metadata": {
        "id": "e1nWqK9Cf5S8"
      },
      "source": [
        "## 1: Utilizando a base de dados [Higher Education Students Performance Evaluation](https://www.kaggle.com/datasets/csafrit2/higher-education-students-performance-evaluation), elabore uma solução para identificar a saída GRADE do estudante."
      ]
    },
    {
      "cell_type": "markdown",
      "metadata": {
        "id": "bX92bQYqf5TV"
      },
      "source": [
        "### a) Faça o pré-processamento dos dados (limpeza, engenharia de variáveis, etc). Utilize pelo menos uma forma de redimensionamento de atributos (selecionando ou agregando) e utilize ambas as amostras para avaliar os resultados."
      ]
    },
    {
      "cell_type": "code",
      "execution_count": 2,
      "metadata": {
        "id": "YzdK44Kzf5TW"
      },
      "outputs": [],
      "source": [
        "from pandas import read_csv\n",
        "\n",
        "df = read_csv(\"https://raw.githubusercontent.com/hyoretsu-cc-ufpb/ia/main/databases/student_prediction.csv\")\n",
        "\n",
        "classes = [\"Fail\", \"DD\", \"DC\", \"CC\", \"CB\", \"BB\", \"BA\", \"AA\"]"
      ]
    },
    {
      "cell_type": "markdown",
      "metadata": {
        "id": "L9qPuCqQf5TZ"
      },
      "source": [
        "Retiramos colunas que não agregam à analise:"
      ]
    },
    {
      "cell_type": "code",
      "execution_count": 3,
      "metadata": {
        "id": "ryD9XJ-Vf5TZ"
      },
      "outputs": [],
      "source": [
        "# Removendo colunas de identificação\n",
        "df = df.drop(columns=[\"STUDENTID\", \"COURSE ID\"])"
      ]
    },
    {
      "cell_type": "markdown",
      "metadata": {
        "id": "luB2IKY0f5Ta"
      },
      "source": [
        "Como todos os dados categóricos já foram convertidos em números, não precisamos fazer essa etapa:"
      ]
    },
    {
      "cell_type": "code",
      "execution_count": 4,
      "metadata": {
        "colab": {
          "base_uri": "https://localhost:8080/"
        },
        "id": "eOvAukVbf5Tf",
        "outputId": "1d799ba7-f28f-4900-d682-2601cb72abc2"
      },
      "outputs": [
        {
          "output_type": "execute_result",
          "data": {
            "text/plain": [
              "AGE              int64\n",
              "GENDER           int64\n",
              "HS_TYPE          int64\n",
              "SCHOLARSHIP      int64\n",
              "WORK             int64\n",
              "ACTIVITY         int64\n",
              "PARTNER          int64\n",
              "SALARY           int64\n",
              "TRANSPORT        int64\n",
              "LIVING           int64\n",
              "MOTHER_EDU       int64\n",
              "FATHER_EDU       int64\n",
              "#_SIBLINGS       int64\n",
              "KIDS             int64\n",
              "MOTHER_JOB       int64\n",
              "FATHER_JOB       int64\n",
              "STUDY_HRS        int64\n",
              "READ_FREQ        int64\n",
              "READ_FREQ_SCI    int64\n",
              "ATTEND_DEPT      int64\n",
              "IMPACT           int64\n",
              "ATTEND           int64\n",
              "PREP_STUDY       int64\n",
              "PREP_EXAM        int64\n",
              "NOTES            int64\n",
              "LISTENS          int64\n",
              "LIKES_DISCUSS    int64\n",
              "CLASSROOM        int64\n",
              "CUML_GPA         int64\n",
              "EXP_GPA          int64\n",
              "GRADE            int64\n",
              "dtype: object"
            ]
          },
          "metadata": {},
          "execution_count": 4
        }
      ],
      "source": [
        "df.dtypes"
      ]
    },
    {
      "cell_type": "markdown",
      "metadata": {
        "id": "n44j7FA9f5Tl"
      },
      "source": [
        "Tratamos possíveis dados defeituosos:"
      ]
    },
    {
      "cell_type": "code",
      "execution_count": 5,
      "metadata": {
        "id": "swhGjfaqf5Tl"
      },
      "outputs": [],
      "source": [
        "# Removendo dados duplicados\n",
        "df = df.drop_duplicates()\n",
        "# Removendo dados nulos\n",
        "df = df.dropna()"
      ]
    },
    {
      "cell_type": "markdown",
      "metadata": {
        "id": "ocCDawHgf5Tm"
      },
      "source": [
        "Usamos correlação para identificar variáveis independentes que podem ser removidas:"
      ]
    },
    {
      "cell_type": "code",
      "execution_count": 6,
      "metadata": {
        "colab": {
          "base_uri": "https://localhost:8080/",
          "height": 612
        },
        "id": "ojAWbYftf5Tm",
        "outputId": "64978176-8d37-45dc-b2fb-9515a373c0d8"
      },
      "outputs": [
        {
          "output_type": "display_data",
          "data": {
            "text/plain": [
              "<Figure size 864x648 with 2 Axes>"
            ],
            "image/png": "[encoded data removed]"
          },
          "metadata": {
            "needs_background": "light"
          }
        }
      ],
      "source": [
        "import matplotlib.pyplot as plt\n",
        "import seaborn as sns\n",
        "\n",
        "plt.figure(figsize=(12, 9))\n",
        "sns.heatmap(df.corr(), cmap=sns.diverging_palette(240, 10, as_cmap=True))\n",
        "plt.show()"
      ]
    },
    {
      "cell_type": "markdown",
      "metadata": {
        "id": "ODnDvol9f5Tn"
      },
      "source": [
        "Considerando um nível alto de correlação como > 0.6, podemos remover o atributo \"EXP_GPA\" (que nada mais é do que uma previsão do CUML_GPA) em favor de \"CUML_GPA\"."
      ]
    },
    {
      "cell_type": "code",
      "execution_count": 7,
      "metadata": {
        "id": "bg4pfwByf5To"
      },
      "outputs": [],
      "source": [
        "import numpy as np\n",
        "from pandas import DataFrame\n",
        "\n",
        "def drop_correlation(dataset: DataFrame, threshold: int):\n",
        "    # Create correlation matrix\n",
        "    corr_matrix = dataset.corr().abs()\n",
        "\n",
        "    # Select upper triangle of correlation matrix\n",
        "    upper = corr_matrix.where(np.triu(np.ones(corr_matrix.shape), k=1).astype(bool))\n",
        "\n",
        "    # Find features with correlation greater than threshold\n",
        "    to_drop = [column for column in upper.columns if any(upper[column] > threshold)]\n",
        "\n",
        "    # Drop features\n",
        "    return dataset.drop(to_drop, axis=1)\n",
        "\n",
        "\n",
        "df_best = drop_correlation(df, 0.6)"
      ]
    },
    {
      "cell_type": "markdown",
      "metadata": {
        "id": "iWMumcqMf5To"
      },
      "source": [
        "Podemos reduzir ainda mais as variáveis juntando as 4 de pai e mãe (escolaridade e trabalho) em uma única de parentes, assim como as 2 sobre leitura de livros. Porém, na minha opinião, isso poderia acarretar numa possível perda de *insight*.\n",
        "\n",
        "Ou, também, remover colunas com correlação insignificante (< 0.1), mas este caminho pode trazer efeitos adversos, como nos privar de uma variável possivelmente útil ou causar *overfitting*."
      ]
    },
    {
      "cell_type": "markdown",
      "metadata": {
        "id": "yb-UeJtYf5Tp"
      },
      "source": [
        "### b) Faça uma análise exploratória dos dados de saída, utilizando box plot, e aplique undersampling ou oversampling para balancear os dados caso preciso."
      ]
    },
    {
      "cell_type": "code",
      "execution_count": 8,
      "metadata": {
        "colab": {
          "base_uri": "https://localhost:8080/",
          "height": 279
        },
        "id": "YVvSgwzof5Tp",
        "outputId": "23aa6412-1c83-48d2-f6a6-9b1f1b93887b"
      },
      "outputs": [
        {
          "output_type": "display_data",
          "data": {
            "text/plain": [
              "<Figure size 432x288 with 1 Axes>"
            ],
            "image/png": "[encoded data removed]"
          },
          "metadata": {
            "needs_background": "light"
          }
        }
      ],
      "source": [
        "import matplotlib.pyplot as plt\n",
        "import seaborn as sns\n",
        "\n",
        "sns.boxplot(x=\"GRADE\", data=df)\n",
        "plt.show()"
      ]
    },
    {
      "cell_type": "markdown",
      "metadata": {
        "id": "XVsaKovxf5Tq"
      },
      "source": [
        "Podemos notar uma diferença no tamanho das caudas, sem presença de outliers, e que a mediana não está no centro do gráfico. Isso nos mostra um forte desbalanceamento para os valores menores, portanto aplicaremos oversampling através da técnica \"Synthetic Minority Over-sampling Technique\" implementada pela biblioteca Imbalanced-learn:"
      ]
    },
    {
      "cell_type": "code",
      "execution_count": 9,
      "metadata": {
        "colab": {
          "base_uri": "https://localhost:8080/",
          "height": 265
        },
        "id": "YqqDoNDYf5Tq",
        "outputId": "f40fba34-39b5-46c6-c3fe-5849e140e643"
      },
      "outputs": [
        {
          "output_type": "display_data",
          "data": {
            "text/plain": [
              "<Figure size 432x288 with 1 Axes>"
            ],
            "image/png": "[encoded data removed]"
          },
          "metadata": {
            "needs_background": "light"
          }
        }
      ],
      "source": [
        "from imblearn.over_sampling import SMOTE\n",
        "\n",
        "# [x, y]\n",
        "df = [df.iloc[:, :-1], df.iloc[:, -1]]\n",
        "# [x, y]\n",
        "df_best = [df_best.iloc[:, :-1], df_best.iloc[:, -1]]\n",
        "\n",
        "# rand=np.random.randint(1000)\n",
        "# print(rand)\n",
        "\n",
        "smote = SMOTE(random_state=603)\n",
        "df = smote.fit_resample(df[0], df[1])\n",
        "df_best = smote.fit_resample(df_best[0], df_best[1])\n",
        "\n",
        "sns.boxplot(data=df_best[1], orient=\"horizontal\")\n",
        "plt.show()"
      ]
    },
    {
      "cell_type": "markdown",
      "metadata": {
        "id": "bogd04Lnf5Tr"
      },
      "source": [
        "Com isto, a mediana encontra-se devidamente no centro dos valores e as distâncias entre os percentils e as caudas estãos iguais, portanto as amostras foram balançeadas."
      ]
    },
    {
      "cell_type": "markdown",
      "metadata": {
        "id": "2Be0T_9af5Ts"
      },
      "source": [
        "### c) Utilize a biblioteca AutoML para fazer a previsão, com validação cruzada estratificada 10-fold e \"random_state\" fixo. Identifique o algoritmo que teve o melhor resultado e avalie-o com 2 métricas de sua preferência e matriz de confusão."
      ]
    },
    {
      "cell_type": "code",
      "execution_count": 10,
      "metadata": {
        "colab": {
          "base_uri": "https://localhost:8080/"
        },
        "id": "xEDGpxuEf5Tt",
        "outputId": "4c178ec4-5ed9-4630-ff38-5dda3fb4d46c"
      },
      "outputs": [
        {
          "output_type": "execute_result",
          "data": {
            "text/plain": [
              "AutoSklearnClassifier(n_jobs=-1, per_run_time_limit=48,\n",
              "                      resampling_strategy='cv',\n",
              "                      resampling_strategy_arguments={'folds': 10},\n",
              "                      time_left_for_this_task=240)"
            ]
          },
          "metadata": {},
          "execution_count": 10
        }
      ],
      "source": [
        "from autosklearn.classification import AutoSklearnClassifier\n",
        "from IPython.display import display\n",
        "from pandas import DataFrame\n",
        "from sklearn.metrics import ConfusionMatrixDisplay, confusion_matrix\n",
        "from sklearn.model_selection import train_test_split\n",
        "from warnings import simplefilter\n",
        "\n",
        "simplefilter(\"ignore\")\n",
        "\n",
        "x_train, x_test, y_train, y_test = train_test_split(df[0], df[1], test_size=0.33, random_state=603, stratify=df[1])\n",
        "\n",
        "automl = AutoSklearnClassifier(\n",
        "    time_left_for_this_task=60 * 4,\n",
        "    resampling_strategy=\"cv\",\n",
        "    resampling_strategy_arguments={\"folds\": 10},\n",
        "    n_jobs=-1\n",
        ")\n",
        "\n",
        "automl.fit(x_train, y_train)\n",
        "automl.refit(x_train, y_train)"
      ]
    },
    {
      "cell_type": "markdown",
      "metadata": {
        "id": "0rDesVi2f5Tt"
      },
      "source": [
        "Para analisar os resultados usaremos a acurácia, visto que as classes estão balanceadas, precisão e sensibilidade (Medida F1). Nota-se que não usaremos a média \"micro\" pois seus resultados são os mesmos da acurácia em amostras balanceadas."
      ]
    },
    {
      "cell_type": "code",
      "execution_count": 11,
      "metadata": {
        "colab": {
          "base_uri": "https://localhost:8080/"
        },
        "id": "fBS9cxT3f5Tu",
        "outputId": "9ad3113f-e93d-4532-db2d-d84fa65b08c2"
      },
      "outputs": [
        {
          "output_type": "stream",
          "name": "stdout",
          "text": [
            "Acurácia: 0.7204301075268817\n",
            "Precisão: 0.7469990079365079\n",
            "Sensibilidade: 0.7196969696969697\n",
            "          rank  ensemble_weight                type      cost   duration\n",
            "model_id                                                                \n",
            "7            1             0.24          libsvm_svc  0.374332  11.218150\n",
            "13           2             0.22  passive_aggressive  0.411765  23.182669\n",
            "15           3             0.08                 lda  0.422460  13.934443\n",
            "5            4             0.02          libsvm_svc  0.443850  10.158857\n",
            "10           5             0.22       random_forest  0.556150  35.319895\n",
            "11           6             0.04                 mlp  0.561497  13.056973\n",
            "4            7             0.18       random_forest  0.609626  22.700499\n"
          ]
        }
      ],
      "source": [
        "from sklearn.metrics import accuracy_score, precision_score, recall_score\n",
        "results = automl.predict(x_test)\n",
        "\n",
        "print(f\"Acurácia: {accuracy_score(y_test, results)}\")\n",
        "print(f\"Precisão: {precision_score(y_test, results, average='macro')}\")\n",
        "print(f\"Sensibilidade: {recall_score(y_test, results, average='macro')}\")\n",
        "print(automl.leaderboard())"
      ]
    },
    {
      "cell_type": "markdown",
      "metadata": {
        "id": "a9Rkho7Sf5Tv"
      },
      "source": [
        "O melhor algoritmo encontrado foi o SVC (C-Support Vector Classification). Sua performance foi mediana, visto que conseguiu apenas 72% de acurácia. Com uma diferença significativa entre a precisão e a sensibilidade, o modelo se enganou menos do que falhou em prever corretamente as classes."
      ]
    },
    {
      "cell_type": "code",
      "execution_count": 12,
      "metadata": {
        "colab": {
          "base_uri": "https://localhost:8080/",
          "height": 279
        },
        "id": "XZZyHDvDf5Tw",
        "outputId": "ffcb1982-0bc5-4323-f3ec-4168f0e043c2"
      },
      "outputs": [
        {
          "output_type": "display_data",
          "data": {
            "text/plain": [
              "<Figure size 432x288 with 2 Axes>"
            ],
            "image/png": "[encoded data removed]"
          },
          "metadata": {
            "needs_background": "light"
          }
        }
      ],
      "source": [
        "cm = confusion_matrix(y_test, results)\n",
        "ConfusionMatrixDisplay(confusion_matrix=cm, display_labels=classes).plot()\n",
        "plt.show()"
      ]
    },
    {
      "cell_type": "markdown",
      "metadata": {
        "id": "jkfUchCff5Tw"
      },
      "source": [
        "A matriz de confusão nos dá uma visão mais clara do que aconteceu. Em metade das classes, a taxa de acerto foi muito boa, entre 80% e 100%. Ele teve um pouco de dificuldade nas classes \"BB\" e \"AA\" e bastante dificuldade nas classes \"DD\" e \"DC\", onde conseguiu apenas 45% e 50% de acurácia."
      ]
    },
    {
      "cell_type": "code",
      "execution_count": 13,
      "metadata": {
        "id": "qHLwMwAYf5Tx",
        "colab": {
          "base_uri": "https://localhost:8080/"
        },
        "outputId": "9f7a3255-cedb-4cd0-ce23-01ca7a1ba571"
      },
      "outputs": [
        {
          "output_type": "execute_result",
          "data": {
            "text/plain": [
              "AutoSklearnClassifier(n_jobs=-1, per_run_time_limit=48,\n",
              "                      resampling_strategy='cv',\n",
              "                      resampling_strategy_arguments={'folds': 10},\n",
              "                      time_left_for_this_task=240)"
            ]
          },
          "metadata": {},
          "execution_count": 13
        }
      ],
      "source": [
        "simplefilter(\"ignore\")\n",
        "\n",
        "x_train2, x_test2, y_train2, y_test2 = train_test_split(df_best[0], df_best[1], test_size=0.33, random_state=603, stratify=df_best[1])\n",
        "\n",
        "automl2 = AutoSklearnClassifier(\n",
        "    time_left_for_this_task=60 * 4,\n",
        "    resampling_strategy=\"cv\",\n",
        "    resampling_strategy_arguments={\"folds\": 10},\n",
        "    n_jobs=-1\n",
        ")\n",
        "\n",
        "automl2.fit(x_train2, y_train2)\n",
        "automl2.refit(x_train2, y_train2)"
      ]
    },
    {
      "cell_type": "code",
      "execution_count": 14,
      "metadata": {
        "id": "8uBgtpDKf5Ty",
        "colab": {
          "base_uri": "https://localhost:8080/"
        },
        "outputId": "8dbb253a-85a6-498c-bdf6-6794e53de68b"
      },
      "outputs": [
        {
          "output_type": "stream",
          "name": "stdout",
          "text": [
            "Acurácia: 0.6666666666666666\n",
            "Precisão: 0.6619682400932401\n",
            "Sensibilidade: 0.6647727272727273\n",
            "          rank  ensemble_weight                type      cost   duration\n",
            "model_id                                                                \n",
            "2            1             0.46       random_forest  0.331551  30.222223\n",
            "7            2             0.08          libsvm_svc  0.401070  11.280466\n",
            "13           3             0.04  passive_aggressive  0.417112  21.908839\n",
            "6            4             0.02          libsvm_svc  0.438503   8.291333\n",
            "15           5             0.22                 lda  0.438503  15.282149\n",
            "3            6             0.02                 mlp  0.449198  24.674015\n",
            "10           7             0.04       random_forest  0.524064  34.140495\n",
            "4            8             0.10       random_forest  0.540107  22.678451\n",
            "11           9             0.02                 mlp  0.556150  16.220151\n"
          ]
        }
      ],
      "source": [
        "results2 = automl2.predict(x_test2)\n",
        "\n",
        "print(f\"Acurácia: {accuracy_score(y_test2, results2)}\")\n",
        "print(f\"Precisão: {precision_score(y_test2, results2, average='macro')}\")\n",
        "print(f\"Sensibilidade: {recall_score(y_test2, results2, average='macro')}\")\n",
        "print(automl2.leaderboard())"
      ]
    },
    {
      "cell_type": "markdown",
      "metadata": {
        "id": "_PDGzosLw_JF"
      },
      "source": [
        "Desta vez, desconsiderar variáveis independentes altamente correlacionadas entre si teve um efeito contrário ao esperado, diminuindo as métricas no geral. A acurácia caiu cerca de 5,5%."
      ]
    },
    {
      "cell_type": "code",
      "execution_count": 15,
      "metadata": {
        "id": "2sVcn-J3f5Tz",
        "colab": {
          "base_uri": "https://localhost:8080/",
          "height": 279
        },
        "outputId": "f08e50b4-0f6a-4d6f-b6eb-fef2903f8abc"
      },
      "outputs": [
        {
          "output_type": "display_data",
          "data": {
            "text/plain": [
              "<Figure size 432x288 with 2 Axes>"
            ],
            "image/png": "[encoded data removed]"
          },
          "metadata": {
            "needs_background": "light"
          }
        }
      ],
      "source": [
        "cm2 = confusion_matrix(y_test2, results2)\n",
        "ConfusionMatrixDisplay(confusion_matrix=cm2, display_labels=classes).plot()\n",
        "plt.show()"
      ]
    },
    {
      "cell_type": "markdown",
      "source": [
        "Seu resultado nas classes \"DD\" e \"CC\" piorou bastante, chegando a apenas 18% na \"DD\". Em \"DC\" piorou levemente e curiosamente teve um resultado melhor para a classe \"AA\". No geral, se saiu pior que o dataset completo."
      ],
      "metadata": {
        "id": "edIPkMavWDH5"
      }
    },
    {
      "cell_type": "markdown",
      "metadata": {
        "id": "Jg3hXFb6f5T0"
      },
      "source": [
        "Abaixo temos um relatório mais detalhado sobre os algoritmos que foram testados no 1º modelo:"
      ]
    },
    {
      "cell_type": "code",
      "execution_count": 16,
      "metadata": {
        "id": "Oj5T_WVOf5T0",
        "colab": {
          "base_uri": "https://localhost:8080/",
          "height": 1000
        },
        "outputId": "3fccdb50-e678-4dac-d1e0-9fc519cc9a0e"
      },
      "outputs": [
        {
          "output_type": "display_data",
          "data": {
            "text/plain": [
              "                  mean_test_score  mean_fit_time  \\\n",
              "rank_test_scores                                   \n",
              "1                        0.625668      11.218150   \n",
              "2                        0.588235      23.182669   \n",
              "3                        0.577540      13.934443   \n",
              "4                        0.572193      47.417785   \n",
              "5                        0.556150      10.158857   \n",
              "6                        0.443850      35.319895   \n",
              "7                        0.438503      13.056973   \n",
              "8                        0.390374      22.700499   \n",
              "9                        0.128342      12.165502   \n",
              "10                       0.000000      48.042364   \n",
              "10                       0.000000      48.085146   \n",
              "10                       0.000000      48.081549   \n",
              "10                       0.000000      48.055105   \n",
              "10                       0.000000      46.043531   \n",
              "10                       0.000000      18.046721   \n",
              "\n",
              "                                                             params   status  \\\n",
              "rank_test_scores                                                               \n",
              "1                 {'balancing:strategy': 'weighting', 'classifie...  Success   \n",
              "2                 {'balancing:strategy': 'none', 'classifier:__c...  Success   \n",
              "3                 {'balancing:strategy': 'weighting', 'classifie...  Success   \n",
              "4                 {'balancing:strategy': 'weighting', 'classifie...  Success   \n",
              "5                 {'balancing:strategy': 'none', 'classifier:__c...  Success   \n",
              "6                 {'balancing:strategy': 'none', 'classifier:__c...  Success   \n",
              "7                 {'balancing:strategy': 'none', 'classifier:__c...  Success   \n",
              "8                 {'balancing:strategy': 'none', 'classifier:__c...  Success   \n",
              "9                 {'balancing:strategy': 'none', 'classifier:__c...  Success   \n",
              "10                {'balancing:strategy': 'none', 'classifier:__c...  Timeout   \n",
              "10                {'balancing:strategy': 'weighting', 'classifie...  Timeout   \n",
              "10                {'balancing:strategy': 'weighting', 'classifie...  Timeout   \n",
              "10                {'balancing:strategy': 'none', 'classifier:__c...  Timeout   \n",
              "10                {'balancing:strategy': 'weighting', 'classifie...  Timeout   \n",
              "10                {'balancing:strategy': 'weighting', 'classifie...  Timeout   \n",
              "\n",
              "                  budgets param_balancing:strategy  \\\n",
              "rank_test_scores                                     \n",
              "1                     0.0                weighting   \n",
              "2                     0.0                     none   \n",
              "3                     0.0                weighting   \n",
              "4                     0.0                weighting   \n",
              "5                     0.0                     none   \n",
              "6                     0.0                     none   \n",
              "7                     0.0                     none   \n",
              "8                     0.0                     none   \n",
              "9                     0.0                     none   \n",
              "10                    0.0                     none   \n",
              "10                    0.0                weighting   \n",
              "10                    0.0                weighting   \n",
              "10                    0.0                     none   \n",
              "10                    0.0                weighting   \n",
              "10                    0.0                weighting   \n",
              "\n",
              "                 param_classifier:__choice__  \\\n",
              "rank_test_scores                               \n",
              "1                                 libsvm_svc   \n",
              "2                         passive_aggressive   \n",
              "3                                        lda   \n",
              "4                                        mlp   \n",
              "5                                 libsvm_svc   \n",
              "6                              random_forest   \n",
              "7                                        mlp   \n",
              "8                              random_forest   \n",
              "9                          gradient_boosting   \n",
              "10                             random_forest   \n",
              "10                                       sgd   \n",
              "10                                       lda   \n",
              "10                             random_forest   \n",
              "10                         gradient_boosting   \n",
              "10                         gradient_boosting   \n",
              "\n",
              "                 param_data_preprocessor:__choice__  \\\n",
              "rank_test_scores                                      \n",
              "1                                      feature_type   \n",
              "2                                      feature_type   \n",
              "3                                      feature_type   \n",
              "4                                      feature_type   \n",
              "5                                      feature_type   \n",
              "6                                      feature_type   \n",
              "7                                      feature_type   \n",
              "8                                      feature_type   \n",
              "9                                      feature_type   \n",
              "10                                     feature_type   \n",
              "10                                     feature_type   \n",
              "10                                     feature_type   \n",
              "10                                     feature_type   \n",
              "10                                     feature_type   \n",
              "10                                     feature_type   \n",
              "\n",
              "                 param_feature_preprocessor:__choice__  \\\n",
              "rank_test_scores                                         \n",
              "1                                     no_preprocessing   \n",
              "2                                           polynomial   \n",
              "3                                           polynomial   \n",
              "4                                feature_agglomeration   \n",
              "5                                feature_agglomeration   \n",
              "6                                feature_agglomeration   \n",
              "7                           liblinear_svc_preprocessor   \n",
              "8                                feature_agglomeration   \n",
              "9                     select_percentile_classification   \n",
              "10                                    no_preprocessing   \n",
              "10                                          polynomial   \n",
              "10                                       kitchen_sinks   \n",
              "10                                          polynomial   \n",
              "10                                          polynomial   \n",
              "10                                    no_preprocessing   \n",
              "\n",
              "                  param_classifier:adaboost:algorithm  ...  \\\n",
              "rank_test_scores                                       ...   \n",
              "1                                                 NaN  ...   \n",
              "2                                                 NaN  ...   \n",
              "3                                                 NaN  ...   \n",
              "4                                                 NaN  ...   \n",
              "5                                                 NaN  ...   \n",
              "6                                                 NaN  ...   \n",
              "7                                                 NaN  ...   \n",
              "8                                                 NaN  ...   \n",
              "9                                                 NaN  ...   \n",
              "10                                                NaN  ...   \n",
              "10                                                NaN  ...   \n",
              "10                                                NaN  ...   \n",
              "10                                                NaN  ...   \n",
              "10                                                NaN  ...   \n",
              "10                                                NaN  ...   \n",
              "\n",
              "                  param_data_preprocessor:feature_type:numerical_transformer:rescaling:robust_scaler:q_max  \\\n",
              "rank_test_scores                                                                                             \n",
              "1                                                               NaN                                          \n",
              "2                                                               NaN                                          \n",
              "3                                                          0.777883                                          \n",
              "4                                                               NaN                                          \n",
              "5                                                               NaN                                          \n",
              "6                                                               NaN                                          \n",
              "7                                                               NaN                                          \n",
              "8                                                               NaN                                          \n",
              "9                                                          0.810188                                          \n",
              "10                                                              NaN                                          \n",
              "10                                                              NaN                                          \n",
              "10                                                         0.889845                                          \n",
              "10                                                              NaN                                          \n",
              "10                                                         0.965272                                          \n",
              "10                                                         0.731064                                          \n",
              "\n",
              "                  param_data_preprocessor:feature_type:numerical_transformer:rescaling:robust_scaler:q_min  \\\n",
              "rank_test_scores                                                                                             \n",
              "1                                                               NaN                                          \n",
              "2                                                               NaN                                          \n",
              "3                                                          0.185241                                          \n",
              "4                                                               NaN                                          \n",
              "5                                                               NaN                                          \n",
              "6                                                               NaN                                          \n",
              "7                                                               NaN                                          \n",
              "8                                                               NaN                                          \n",
              "9                                                          0.236563                                          \n",
              "10                                                              NaN                                          \n",
              "10                                                              NaN                                          \n",
              "10                                                         0.170408                                          \n",
              "10                                                              NaN                                          \n",
              "10                                                         0.041903                                          \n",
              "10                                                         0.283639                                          \n",
              "\n",
              "                  param_feature_preprocessor:fast_ica:n_components  \\\n",
              "rank_test_scores                                                     \n",
              "1                                                              NaN   \n",
              "2                                                              NaN   \n",
              "3                                                              NaN   \n",
              "4                                                              NaN   \n",
              "5                                                              NaN   \n",
              "6                                                              NaN   \n",
              "7                                                              NaN   \n",
              "8                                                              NaN   \n",
              "9                                                              NaN   \n",
              "10                                                             NaN   \n",
              "10                                                             NaN   \n",
              "10                                                             NaN   \n",
              "10                                                             NaN   \n",
              "10                                                             NaN   \n",
              "10                                                             NaN   \n",
              "\n",
              "                  param_feature_preprocessor:kernel_pca:coef0  \\\n",
              "rank_test_scores                                                \n",
              "1                                                         NaN   \n",
              "2                                                         NaN   \n",
              "3                                                         NaN   \n",
              "4                                                         NaN   \n",
              "5                                                         NaN   \n",
              "6                                                         NaN   \n",
              "7                                                         NaN   \n",
              "8                                                         NaN   \n",
              "9                                                         NaN   \n",
              "10                                                        NaN   \n",
              "10                                                        NaN   \n",
              "10                                                        NaN   \n",
              "10                                                        NaN   \n",
              "10                                                        NaN   \n",
              "10                                                        NaN   \n",
              "\n",
              "                  param_feature_preprocessor:kernel_pca:degree  \\\n",
              "rank_test_scores                                                 \n",
              "1                                                          NaN   \n",
              "2                                                          NaN   \n",
              "3                                                          NaN   \n",
              "4                                                          NaN   \n",
              "5                                                          NaN   \n",
              "6                                                          NaN   \n",
              "7                                                          NaN   \n",
              "8                                                          NaN   \n",
              "9                                                          NaN   \n",
              "10                                                         NaN   \n",
              "10                                                         NaN   \n",
              "10                                                         NaN   \n",
              "10                                                         NaN   \n",
              "10                                                         NaN   \n",
              "10                                                         NaN   \n",
              "\n",
              "                  param_feature_preprocessor:kernel_pca:gamma  \\\n",
              "rank_test_scores                                                \n",
              "1                                                         NaN   \n",
              "2                                                         NaN   \n",
              "3                                                         NaN   \n",
              "4                                                         NaN   \n",
              "5                                                         NaN   \n",
              "6                                                         NaN   \n",
              "7                                                         NaN   \n",
              "8                                                         NaN   \n",
              "9                                                         NaN   \n",
              "10                                                        NaN   \n",
              "10                                                        NaN   \n",
              "10                                                        NaN   \n",
              "10                                                        NaN   \n",
              "10                                                        NaN   \n",
              "10                                                        NaN   \n",
              "\n",
              "                  param_feature_preprocessor:nystroem_sampler:coef0  \\\n",
              "rank_test_scores                                                      \n",
              "1                                                               NaN   \n",
              "2                                                               NaN   \n",
              "3                                                               NaN   \n",
              "4                                                               NaN   \n",
              "5                                                               NaN   \n",
              "6                                                               NaN   \n",
              "7                                                               NaN   \n",
              "8                                                               NaN   \n",
              "9                                                               NaN   \n",
              "10                                                              NaN   \n",
              "10                                                              NaN   \n",
              "10                                                              NaN   \n",
              "10                                                              NaN   \n",
              "10                                                              NaN   \n",
              "10                                                              NaN   \n",
              "\n",
              "                  param_feature_preprocessor:nystroem_sampler:degree  \\\n",
              "rank_test_scores                                                       \n",
              "1                                                               NaN    \n",
              "2                                                               NaN    \n",
              "3                                                               NaN    \n",
              "4                                                               NaN    \n",
              "5                                                               NaN    \n",
              "6                                                               NaN    \n",
              "7                                                               NaN    \n",
              "8                                                               NaN    \n",
              "9                                                               NaN    \n",
              "10                                                              NaN    \n",
              "10                                                              NaN    \n",
              "10                                                              NaN    \n",
              "10                                                              NaN    \n",
              "10                                                              NaN    \n",
              "10                                                              NaN    \n",
              "\n",
              "                  param_feature_preprocessor:nystroem_sampler:gamma  \\\n",
              "rank_test_scores                                                      \n",
              "1                                                               NaN   \n",
              "2                                                               NaN   \n",
              "3                                                               NaN   \n",
              "4                                                               NaN   \n",
              "5                                                               NaN   \n",
              "6                                                               NaN   \n",
              "7                                                               NaN   \n",
              "8                                                               NaN   \n",
              "9                                                               NaN   \n",
              "10                                                              NaN   \n",
              "10                                                              NaN   \n",
              "10                                                              NaN   \n",
              "10                                                              NaN   \n",
              "10                                                              NaN   \n",
              "10                                                              NaN   \n",
              "\n",
              "                  param_feature_preprocessor:select_rates_classification:mode  \n",
              "rank_test_scores                                                               \n",
              "1                                                               NaN            \n",
              "2                                                               NaN            \n",
              "3                                                               NaN            \n",
              "4                                                               NaN            \n",
              "5                                                               NaN            \n",
              "6                                                               NaN            \n",
              "7                                                               NaN            \n",
              "8                                                               NaN            \n",
              "9                                                               NaN            \n",
              "10                                                              NaN            \n",
              "10                                                              NaN            \n",
              "10                                                              NaN            \n",
              "10                                                              NaN            \n",
              "10                                                              NaN            \n",
              "10                                                              NaN            \n",
              "\n",
              "[15 rows x 173 columns]"
            ],
            "text/html": [
              "\n",
              "  <div id=\"df-dd44e848-0319-4cbe-922d-aa6e98ee5883\">\n",
              "    <div class=\"colab-df-container\">\n",
              "      <div>\n",
              "<style scoped>\n",
              "    .dataframe tbody tr th:only-of-type {\n",
              "        vertical-align: middle;\n",
              "    }\n",
              "\n",
              "    .dataframe tbody tr th {\n",
              "        vertical-align: top;\n",
              "    }\n",
              "\n",
              "    .dataframe thead th {\n",
              "        text-align: right;\n",
              "    }\n",
              "</style>\n",
              "<table border=\"1\" class=\"dataframe\">\n",
              "  <thead>\n",
              "    <tr style=\"text-align: right;\">\n",
              "      <th></th>\n",
              "      <th>mean_test_score</th>\n",
              "      <th>mean_fit_time</th>\n",
              "      <th>params</th>\n",
              "      <th>status</th>\n",
              "      <th>budgets</th>\n",
              "      <th>param_balancing:strategy</th>\n",
              "      <th>param_classifier:__choice__</th>\n",
              "      <th>param_data_preprocessor:__choice__</th>\n",
              "      <th>param_feature_preprocessor:__choice__</th>\n",
              "      <th>param_classifier:adaboost:algorithm</th>\n",
              "      <th>...</th>\n",
              "      <th>param_data_preprocessor:feature_type:numerical_transformer:rescaling:robust_scaler:q_max</th>\n",
              "      <th>param_data_preprocessor:feature_type:numerical_transformer:rescaling:robust_scaler:q_min</th>\n",
              "      <th>param_feature_preprocessor:fast_ica:n_components</th>\n",
              "      <th>param_feature_preprocessor:kernel_pca:coef0</th>\n",
              "      <th>param_feature_preprocessor:kernel_pca:degree</th>\n",
              "      <th>param_feature_preprocessor:kernel_pca:gamma</th>\n",
              "      <th>param_feature_preprocessor:nystroem_sampler:coef0</th>\n",
              "      <th>param_feature_preprocessor:nystroem_sampler:degree</th>\n",
              "      <th>param_feature_preprocessor:nystroem_sampler:gamma</th>\n",
              "      <th>param_feature_preprocessor:select_rates_classification:mode</th>\n",
              "    </tr>\n",
              "    <tr>\n",
              "      <th>rank_test_scores</th>\n",
              "      <th></th>\n",
              "      <th></th>\n",
              "      <th></th>\n",
              "      <th></th>\n",
              "      <th></th>\n",
              "      <th></th>\n",
              "      <th></th>\n",
              "      <th></th>\n",
              "      <th></th>\n",
              "      <th></th>\n",
              "      <th></th>\n",
              "      <th></th>\n",
              "      <th></th>\n",
              "      <th></th>\n",
              "      <th></th>\n",
              "      <th></th>\n",
              "      <th></th>\n",
              "      <th></th>\n",
              "      <th></th>\n",
              "      <th></th>\n",
              "      <th></th>\n",
              "    </tr>\n",
              "  </thead>\n",
              "  <tbody>\n",
              "    <tr>\n",
              "      <th>1</th>\n",
              "      <td>0.625668</td>\n",
              "      <td>11.218150</td>\n",
              "      <td>{'balancing:strategy': 'weighting', 'classifie...</td>\n",
              "      <td>Success</td>\n",
              "      <td>0.0</td>\n",
              "      <td>weighting</td>\n",
              "      <td>libsvm_svc</td>\n",
              "      <td>feature_type</td>\n",
              "      <td>no_preprocessing</td>\n",
              "      <td>NaN</td>\n",
              "      <td>...</td>\n",
              "      <td>NaN</td>\n",
              "      <td>NaN</td>\n",
              "      <td>NaN</td>\n",
              "      <td>NaN</td>\n",
              "      <td>NaN</td>\n",
              "      <td>NaN</td>\n",
              "      <td>NaN</td>\n",
              "      <td>NaN</td>\n",
              "      <td>NaN</td>\n",
              "      <td>NaN</td>\n",
              "    </tr>\n",
              "    <tr>\n",
              "      <th>2</th>\n",
              "      <td>0.588235</td>\n",
              "      <td>23.182669</td>\n",
              "      <td>{'balancing:strategy': 'none', 'classifier:__c...</td>\n",
              "      <td>Success</td>\n",
              "      <td>0.0</td>\n",
              "      <td>none</td>\n",
              "      <td>passive_aggressive</td>\n",
              "      <td>feature_type</td>\n",
              "      <td>polynomial</td>\n",
              "      <td>NaN</td>\n",
              "      <td>...</td>\n",
              "      <td>NaN</td>\n",
              "      <td>NaN</td>\n",
              "      <td>NaN</td>\n",
              "      <td>NaN</td>\n",
              "      <td>NaN</td>\n",
              "      <td>NaN</td>\n",
              "      <td>NaN</td>\n",
              "      <td>NaN</td>\n",
              "      <td>NaN</td>\n",
              "      <td>NaN</td>\n",
              "    </tr>\n",
              "    <tr>\n",
              "      <th>3</th>\n",
              "      <td>0.577540</td>\n",
              "      <td>13.934443</td>\n",
              "      <td>{'balancing:strategy': 'weighting', 'classifie...</td>\n",
              "      <td>Success</td>\n",
              "      <td>0.0</td>\n",
              "      <td>weighting</td>\n",
              "      <td>lda</td>\n",
              "      <td>feature_type</td>\n",
              "      <td>polynomial</td>\n",
              "      <td>NaN</td>\n",
              "      <td>...</td>\n",
              "      <td>0.777883</td>\n",
              "      <td>0.185241</td>\n",
              "      <td>NaN</td>\n",
              "      <td>NaN</td>\n",
              "      <td>NaN</td>\n",
              "      <td>NaN</td>\n",
              "      <td>NaN</td>\n",
              "      <td>NaN</td>\n",
              "      <td>NaN</td>\n",
              "      <td>NaN</td>\n",
              "    </tr>\n",
              "    <tr>\n",
              "      <th>4</th>\n",
              "      <td>0.572193</td>\n",
              "      <td>47.417785</td>\n",
              "      <td>{'balancing:strategy': 'weighting', 'classifie...</td>\n",
              "      <td>Success</td>\n",
              "      <td>0.0</td>\n",
              "      <td>weighting</td>\n",
              "      <td>mlp</td>\n",
              "      <td>feature_type</td>\n",
              "      <td>feature_agglomeration</td>\n",
              "      <td>NaN</td>\n",
              "      <td>...</td>\n",
              "      <td>NaN</td>\n",
              "      <td>NaN</td>\n",
              "      <td>NaN</td>\n",
              "      <td>NaN</td>\n",
              "      <td>NaN</td>\n",
              "      <td>NaN</td>\n",
              "      <td>NaN</td>\n",
              "      <td>NaN</td>\n",
              "      <td>NaN</td>\n",
              "      <td>NaN</td>\n",
              "    </tr>\n",
              "    <tr>\n",
              "      <th>5</th>\n",
              "      <td>0.556150</td>\n",
              "      <td>10.158857</td>\n",
              "      <td>{'balancing:strategy': 'none', 'classifier:__c...</td>\n",
              "      <td>Success</td>\n",
              "      <td>0.0</td>\n",
              "      <td>none</td>\n",
              "      <td>libsvm_svc</td>\n",
              "      <td>feature_type</td>\n",
              "      <td>feature_agglomeration</td>\n",
              "      <td>NaN</td>\n",
              "      <td>...</td>\n",
              "      <td>NaN</td>\n",
              "      <td>NaN</td>\n",
              "      <td>NaN</td>\n",
              "      <td>NaN</td>\n",
              "      <td>NaN</td>\n",
              "      <td>NaN</td>\n",
              "      <td>NaN</td>\n",
              "      <td>NaN</td>\n",
              "      <td>NaN</td>\n",
              "      <td>NaN</td>\n",
              "    </tr>\n",
              "    <tr>\n",
              "      <th>6</th>\n",
              "      <td>0.443850</td>\n",
              "      <td>35.319895</td>\n",
              "      <td>{'balancing:strategy': 'none', 'classifier:__c...</td>\n",
              "      <td>Success</td>\n",
              "      <td>0.0</td>\n",
              "      <td>none</td>\n",
              "      <td>random_forest</td>\n",
              "      <td>feature_type</td>\n",
              "      <td>feature_agglomeration</td>\n",
              "      <td>NaN</td>\n",
              "      <td>...</td>\n",
              "      <td>NaN</td>\n",
              "      <td>NaN</td>\n",
              "      <td>NaN</td>\n",
              "      <td>NaN</td>\n",
              "      <td>NaN</td>\n",
              "      <td>NaN</td>\n",
              "      <td>NaN</td>\n",
              "      <td>NaN</td>\n",
              "      <td>NaN</td>\n",
              "      <td>NaN</td>\n",
              "    </tr>\n",
              "    <tr>\n",
              "      <th>7</th>\n",
              "      <td>0.438503</td>\n",
              "      <td>13.056973</td>\n",
              "      <td>{'balancing:strategy': 'none', 'classifier:__c...</td>\n",
              "      <td>Success</td>\n",
              "      <td>0.0</td>\n",
              "      <td>none</td>\n",
              "      <td>mlp</td>\n",
              "      <td>feature_type</td>\n",
              "      <td>liblinear_svc_preprocessor</td>\n",
              "      <td>NaN</td>\n",
              "      <td>...</td>\n",
              "      <td>NaN</td>\n",
              "      <td>NaN</td>\n",
              "      <td>NaN</td>\n",
              "      <td>NaN</td>\n",
              "      <td>NaN</td>\n",
              "      <td>NaN</td>\n",
              "      <td>NaN</td>\n",
              "      <td>NaN</td>\n",
              "      <td>NaN</td>\n",
              "      <td>NaN</td>\n",
              "    </tr>\n",
              "    <tr>\n",
              "      <th>8</th>\n",
              "      <td>0.390374</td>\n",
              "      <td>22.700499</td>\n",
              "      <td>{'balancing:strategy': 'none', 'classifier:__c...</td>\n",
              "      <td>Success</td>\n",
              "      <td>0.0</td>\n",
              "      <td>none</td>\n",
              "      <td>random_forest</td>\n",
              "      <td>feature_type</td>\n",
              "      <td>feature_agglomeration</td>\n",
              "      <td>NaN</td>\n",
              "      <td>...</td>\n",
              "      <td>NaN</td>\n",
              "      <td>NaN</td>\n",
              "      <td>NaN</td>\n",
              "      <td>NaN</td>\n",
              "      <td>NaN</td>\n",
              "      <td>NaN</td>\n",
              "      <td>NaN</td>\n",
              "      <td>NaN</td>\n",
              "      <td>NaN</td>\n",
              "      <td>NaN</td>\n",
              "    </tr>\n",
              "    <tr>\n",
              "      <th>9</th>\n",
              "      <td>0.128342</td>\n",
              "      <td>12.165502</td>\n",
              "      <td>{'balancing:strategy': 'none', 'classifier:__c...</td>\n",
              "      <td>Success</td>\n",
              "      <td>0.0</td>\n",
              "      <td>none</td>\n",
              "      <td>gradient_boosting</td>\n",
              "      <td>feature_type</td>\n",
              "      <td>select_percentile_classification</td>\n",
              "      <td>NaN</td>\n",
              "      <td>...</td>\n",
              "      <td>0.810188</td>\n",
              "      <td>0.236563</td>\n",
              "      <td>NaN</td>\n",
              "      <td>NaN</td>\n",
              "      <td>NaN</td>\n",
              "      <td>NaN</td>\n",
              "      <td>NaN</td>\n",
              "      <td>NaN</td>\n",
              "      <td>NaN</td>\n",
              "      <td>NaN</td>\n",
              "    </tr>\n",
              "    <tr>\n",
              "      <th>10</th>\n",
              "      <td>0.000000</td>\n",
              "      <td>48.042364</td>\n",
              "      <td>{'balancing:strategy': 'none', 'classifier:__c...</td>\n",
              "      <td>Timeout</td>\n",
              "      <td>0.0</td>\n",
              "      <td>none</td>\n",
              "      <td>random_forest</td>\n",
              "      <td>feature_type</td>\n",
              "      <td>no_preprocessing</td>\n",
              "      <td>NaN</td>\n",
              "      <td>...</td>\n",
              "      <td>NaN</td>\n",
              "      <td>NaN</td>\n",
              "      <td>NaN</td>\n",
              "      <td>NaN</td>\n",
              "      <td>NaN</td>\n",
              "      <td>NaN</td>\n",
              "      <td>NaN</td>\n",
              "      <td>NaN</td>\n",
              "      <td>NaN</td>\n",
              "      <td>NaN</td>\n",
              "    </tr>\n",
              "    <tr>\n",
              "      <th>10</th>\n",
              "      <td>0.000000</td>\n",
              "      <td>48.085146</td>\n",
              "      <td>{'balancing:strategy': 'weighting', 'classifie...</td>\n",
              "      <td>Timeout</td>\n",
              "      <td>0.0</td>\n",
              "      <td>weighting</td>\n",
              "      <td>sgd</td>\n",
              "      <td>feature_type</td>\n",
              "      <td>polynomial</td>\n",
              "      <td>NaN</td>\n",
              "      <td>...</td>\n",
              "      <td>NaN</td>\n",
              "      <td>NaN</td>\n",
              "      <td>NaN</td>\n",
              "      <td>NaN</td>\n",
              "      <td>NaN</td>\n",
              "      <td>NaN</td>\n",
              "      <td>NaN</td>\n",
              "      <td>NaN</td>\n",
              "      <td>NaN</td>\n",
              "      <td>NaN</td>\n",
              "    </tr>\n",
              "    <tr>\n",
              "      <th>10</th>\n",
              "      <td>0.000000</td>\n",
              "      <td>48.081549</td>\n",
              "      <td>{'balancing:strategy': 'weighting', 'classifie...</td>\n",
              "      <td>Timeout</td>\n",
              "      <td>0.0</td>\n",
              "      <td>weighting</td>\n",
              "      <td>lda</td>\n",
              "      <td>feature_type</td>\n",
              "      <td>kitchen_sinks</td>\n",
              "      <td>NaN</td>\n",
              "      <td>...</td>\n",
              "      <td>0.889845</td>\n",
              "      <td>0.170408</td>\n",
              "      <td>NaN</td>\n",
              "      <td>NaN</td>\n",
              "      <td>NaN</td>\n",
              "      <td>NaN</td>\n",
              "      <td>NaN</td>\n",
              "      <td>NaN</td>\n",
              "      <td>NaN</td>\n",
              "      <td>NaN</td>\n",
              "    </tr>\n",
              "    <tr>\n",
              "      <th>10</th>\n",
              "      <td>0.000000</td>\n",
              "      <td>48.055105</td>\n",
              "      <td>{'balancing:strategy': 'none', 'classifier:__c...</td>\n",
              "      <td>Timeout</td>\n",
              "      <td>0.0</td>\n",
              "      <td>none</td>\n",
              "      <td>random_forest</td>\n",
              "      <td>feature_type</td>\n",
              "      <td>polynomial</td>\n",
              "      <td>NaN</td>\n",
              "      <td>...</td>\n",
              "      <td>NaN</td>\n",
              "      <td>NaN</td>\n",
              "      <td>NaN</td>\n",
              "      <td>NaN</td>\n",
              "      <td>NaN</td>\n",
              "      <td>NaN</td>\n",
              "      <td>NaN</td>\n",
              "      <td>NaN</td>\n",
              "      <td>NaN</td>\n",
              "      <td>NaN</td>\n",
              "    </tr>\n",
              "    <tr>\n",
              "      <th>10</th>\n",
              "      <td>0.000000</td>\n",
              "      <td>46.043531</td>\n",
              "      <td>{'balancing:strategy': 'weighting', 'classifie...</td>\n",
              "      <td>Timeout</td>\n",
              "      <td>0.0</td>\n",
              "      <td>weighting</td>\n",
              "      <td>gradient_boosting</td>\n",
              "      <td>feature_type</td>\n",
              "      <td>polynomial</td>\n",
              "      <td>NaN</td>\n",
              "      <td>...</td>\n",
              "      <td>0.965272</td>\n",
              "      <td>0.041903</td>\n",
              "      <td>NaN</td>\n",
              "      <td>NaN</td>\n",
              "      <td>NaN</td>\n",
              "      <td>NaN</td>\n",
              "      <td>NaN</td>\n",
              "      <td>NaN</td>\n",
              "      <td>NaN</td>\n",
              "      <td>NaN</td>\n",
              "    </tr>\n",
              "    <tr>\n",
              "      <th>10</th>\n",
              "      <td>0.000000</td>\n",
              "      <td>18.046721</td>\n",
              "      <td>{'balancing:strategy': 'weighting', 'classifie...</td>\n",
              "      <td>Timeout</td>\n",
              "      <td>0.0</td>\n",
              "      <td>weighting</td>\n",
              "      <td>gradient_boosting</td>\n",
              "      <td>feature_type</td>\n",
              "      <td>no_preprocessing</td>\n",
              "      <td>NaN</td>\n",
              "      <td>...</td>\n",
              "      <td>0.731064</td>\n",
              "      <td>0.283639</td>\n",
              "      <td>NaN</td>\n",
              "      <td>NaN</td>\n",
              "      <td>NaN</td>\n",
              "      <td>NaN</td>\n",
              "      <td>NaN</td>\n",
              "      <td>NaN</td>\n",
              "      <td>NaN</td>\n",
              "      <td>NaN</td>\n",
              "    </tr>\n",
              "  </tbody>\n",
              "</table>\n",
              "<p>15 rows × 173 columns</p>\n",
              "</div>\n",
              "      <button class=\"colab-df-convert\" onclick=\"convertToInteractive('df-dd44e848-0319-4cbe-922d-aa6e98ee5883')\"\n",
              "              title=\"Convert this dataframe to an interactive table.\"\n",
              "              style=\"display:none;\">\n",
              "        \n",
              "  <svg xmlns=\"http://www.w3.org/2000/svg\" height=\"24px\"viewBox=\"0 0 24 24\"\n",
              "       width=\"24px\">\n",
              "    <path d=\"M0 0h24v24H0V0z\" fill=\"none\"/>\n",
              "    <path d=\"M18.56 5.44l.94 2.06.94-2.06 2.06-.94-2.06-.94-.94-2.06-.94 2.06-2.06.94zm-11 1L8.5 8.5l.94-2.06 2.06-.94-2.06-.94L8.5 2.5l-.94 2.06-2.06.94zm10 10l.94 2.06.94-2.06 2.06-.94-2.06-.94-.94-2.06-.94 2.06-2.06.94z\"/><path d=\"M17.41 7.96l-1.37-1.37c-.4-.4-.92-.59-1.43-.59-.52 0-1.04.2-1.43.59L10.3 9.45l-7.72 7.72c-.78.78-.78 2.05 0 2.83L4 21.41c.39.39.9.59 1.41.59.51 0 1.02-.2 1.41-.59l7.78-7.78 2.81-2.81c.8-.78.8-2.07 0-2.86zM5.41 20L4 18.59l7.72-7.72 1.47 1.35L5.41 20z\"/>\n",
              "  </svg>\n",
              "      </button>\n",
              "      \n",
              "  <style>\n",
              "    .colab-df-container {\n",
              "      display:flex;\n",
              "      flex-wrap:wrap;\n",
              "      gap: 12px;\n",
              "    }\n",
              "\n",
              "    .colab-df-convert {\n",
              "      background-color: #E8F0FE;\n",
              "      border: none;\n",
              "      border-radius: 50%;\n",
              "      cursor: pointer;\n",
              "      display: none;\n",
              "      fill: #1967D2;\n",
              "      height: 32px;\n",
              "      padding: 0 0 0 0;\n",
              "      width: 32px;\n",
              "    }\n",
              "\n",
              "    .colab-df-convert:hover {\n",
              "      background-color: #E2EBFA;\n",
              "      box-shadow: 0px 1px 2px rgba(60, 64, 67, 0.3), 0px 1px 3px 1px rgba(60, 64, 67, 0.15);\n",
              "      fill: #174EA6;\n",
              "    }\n",
              "\n",
              "    [theme=dark] .colab-df-convert {\n",
              "      background-color: #3B4455;\n",
              "      fill: #D2E3FC;\n",
              "    }\n",
              "\n",
              "    [theme=dark] .colab-df-convert:hover {\n",
              "      background-color: #434B5C;\n",
              "      box-shadow: 0px 1px 3px 1px rgba(0, 0, 0, 0.15);\n",
              "      filter: drop-shadow(0px 1px 2px rgba(0, 0, 0, 0.3));\n",
              "      fill: #FFFFFF;\n",
              "    }\n",
              "  </style>\n",
              "\n",
              "      <script>\n",
              "        const buttonEl =\n",
              "          document.querySelector('#df-dd44e848-0319-4cbe-922d-aa6e98ee5883 button.colab-df-convert');\n",
              "        buttonEl.style.display =\n",
              "          google.colab.kernel.accessAllowed ? 'block' : 'none';\n",
              "\n",
              "        async function convertToInteractive(key) {\n",
              "          const element = document.querySelector('#df-dd44e848-0319-4cbe-922d-aa6e98ee5883');\n",
              "          const dataTable =\n",
              "            await google.colab.kernel.invokeFunction('convertToInteractive',\n",
              "                                                     [key], {});\n",
              "          if (!dataTable) return;\n",
              "\n",
              "          const docLinkHtml = 'Like what you see? Visit the ' +\n",
              "            '<a target=\"_blank\" href=https://colab.research.google.com/notebooks/data_table.ipynb>data table notebook</a>'\n",
              "            + ' to learn more about interactive tables.';\n",
              "          element.innerHTML = '';\n",
              "          dataTable['output_type'] = 'display_data';\n",
              "          await google.colab.output.renderOutput(dataTable, element);\n",
              "          const docLink = document.createElement('div');\n",
              "          docLink.innerHTML = docLinkHtml;\n",
              "          element.appendChild(docLink);\n",
              "        }\n",
              "      </script>\n",
              "    </div>\n",
              "  </div>\n",
              "  "
            ]
          },
          "metadata": {}
        }
      ],
      "source": [
        "report = DataFrame(automl.cv_results_).set_index(\"rank_test_scores\").sort_values(by=[\"rank_test_scores\"])\n",
        "\n",
        "display(report)"
      ]
    },
    {
      "cell_type": "markdown",
      "metadata": {
        "id": "axU0kXhjf5T1"
      },
      "source": [
        "### d) Teste e avalie 3 variações dos hiperparâmetros do método encontrado anteriormente."
      ]
    },
    {
      "cell_type": "markdown",
      "metadata": {
        "id": "HyYrGeB7f5T1"
      },
      "source": [
        "Dado que a biblioteca Auto-sklearn NÃO nos fornece uma maneira fácil de rodar métodos específicos ou sequer de recuperar os parâmetros usados, faremos uma cópia manual dos parâmetros para as questões posteriores.\n",
        "\n",
        "Por este motivo, também, os resultados não são os mesmos quando o modelo é rodado pelo AutoML, pelo menos sem incluir outras etapas."
      ]
    },
    {
      "cell_type": "code",
      "execution_count": 17,
      "metadata": {
        "id": "49sK3E_rf5T1",
        "colab": {
          "base_uri": "https://localhost:8080/"
        },
        "outputId": "58907cbd-9ba5-4ba0-c6af-24e167af9632"
      },
      "outputs": [
        {
          "output_type": "stream",
          "name": "stdout",
          "text": [
            "Parâmetros do melhor modelo encontrado pelo AutoML:\n",
            "{'balancing:strategy': 'weighting', 'classifier:__choice__': 'libsvm_svc', 'data_preprocessor:__choice__': 'feature_type', 'feature_preprocessor:__choice__': 'no_preprocessing', 'classifier:libsvm_svc:C': 575.2840839820392, 'classifier:libsvm_svc:gamma': 0.28251015893293174, 'classifier:libsvm_svc:kernel': 'rbf', 'classifier:libsvm_svc:max_iter': -1, 'classifier:libsvm_svc:shrinking': 'False', 'classifier:libsvm_svc:tol': 6.314728575433805e-05, 'data_preprocessor:feature_type:categorical_transformer:categorical_encoding:__choice__': 'one_hot_encoding', 'data_preprocessor:feature_type:categorical_transformer:category_coalescence:__choice__': 'no_coalescense', 'data_preprocessor:feature_type:numerical_transformer:imputation:strategy': 'median', 'data_preprocessor:feature_type:numerical_transformer:rescaling:__choice__': 'none'}\n"
          ]
        }
      ],
      "source": [
        "# Identificando hiperparâmetros do melhor algoritmo\n",
        "bestParams = report.loc[1][\"params\"]\n",
        "\n",
        "print(f\"Parâmetros do melhor modelo encontrado pelo AutoML:\\n{bestParams}\")\n",
        "\n",
        "origParams = {\n",
        "    \"C\": 575.2840839820392,\n",
        "    \"gamma\": 0.28251015893293174,\n",
        "    \"kernel\": \"rbf\",\n",
        "    \"max_iter\": -1,\n",
        "    \"shrinking\": False,\n",
        "    \"tol\": 6.314728575433805e-05\n",
        "}"
      ]
    },
    {
      "cell_type": "markdown",
      "metadata": {
        "id": "NmG8fjLwf5T2"
      },
      "source": [
        "Para os testes, mudaremos o parâmetro \"C\"."
      ]
    },
    {
      "cell_type": "code",
      "execution_count": 18,
      "metadata": {
        "id": "7uORY7s5f5T2"
      },
      "outputs": [],
      "source": [
        "from sklearn.svm import SVC\n",
        "\n",
        "params = [origParams.copy(), origParams.copy(), origParams.copy()]"
      ]
    },
    {
      "cell_type": "code",
      "execution_count": 19,
      "metadata": {
        "id": "i5MNtgnzf5T2",
        "colab": {
          "base_uri": "https://localhost:8080/",
          "height": 335
        },
        "outputId": "4c61caca-6a15-402f-e5c0-561f0d4638cf"
      },
      "outputs": [
        {
          "output_type": "display_data",
          "data": {
            "text/plain": [
              "<Figure size 432x288 with 2 Axes>"
            ],
            "image/png": "[encoded data removed]"
          },
          "metadata": {
            "needs_background": "light"
          }
        },
        {
          "output_type": "stream",
          "name": "stdout",
          "text": [
            "Acurácia: 0.20430107526881722\n",
            "Precisão: 0.24136904761904762\n",
            "Sensibilidade: 0.21590909090909094\n"
          ]
        }
      ],
      "source": [
        "params[0].update({\"C\": 0.1})\n",
        "\n",
        "svc = SVC(**params[0])\n",
        "svc.fit(x_train, y_train)\n",
        "results = svc.predict(x_test)\n",
        "\n",
        "cm3 = confusion_matrix(y_test, results)\n",
        "ConfusionMatrixDisplay(confusion_matrix=cm3, display_labels=classes).plot()\n",
        "plt.show()\n",
        "\n",
        "print(f\"Acurácia: {accuracy_score(y_test, results)}\")\n",
        "print(f\"Precisão: {precision_score(y_test, results, average='macro')}\")\n",
        "print(f\"Sensibilidade: {recall_score(y_test, results, average='macro')}\")"
      ]
    },
    {
      "cell_type": "markdown",
      "source": [
        "Partindo de C próximos a 0, a acurácia é baixíssima. No teste feito, a IA simplesmente previu a grande maioria das instâncias como \"CC\". Pelo parâmetro \"C\" ser uma espécie de medida de penalização para previsões erradas, um valor pequeno não irá se importar muito em acertar ou não."
      ],
      "metadata": {
        "id": "JrRNFFVTfdfc"
      }
    },
    {
      "cell_type": "code",
      "execution_count": 20,
      "metadata": {
        "id": "tDvaPJDDf5T3",
        "colab": {
          "base_uri": "https://localhost:8080/",
          "height": 335
        },
        "outputId": "3bf0e29d-7b0c-41ab-a54e-6acdf3c46647"
      },
      "outputs": [
        {
          "output_type": "display_data",
          "data": {
            "text/plain": [
              "<Figure size 432x288 with 2 Axes>"
            ],
            "image/png": "[encoded data removed]"
          },
          "metadata": {
            "needs_background": "light"
          }
        },
        {
          "output_type": "stream",
          "name": "stdout",
          "text": [
            "Acurácia: 0.6666666666666666\n",
            "Precisão: 0.8219246031746033\n",
            "Sensibilidade: 0.6685606060606061\n"
          ]
        }
      ],
      "source": [
        "params[1].update({\"C\": 1})\n",
        "\n",
        "svc = SVC(**params[1])\n",
        "svc.fit(x_train, y_train)\n",
        "results = svc.predict(x_test)\n",
        "\n",
        "cm3 = confusion_matrix(y_test, results)\n",
        "ConfusionMatrixDisplay(confusion_matrix=cm3, display_labels=classes).plot()\n",
        "plt.show()\n",
        "\n",
        "print(f\"Acurácia: {accuracy_score(y_test, results)}\")\n",
        "print(f\"Precisão: {precision_score(y_test, results, average='macro')}\")\n",
        "print(f\"Sensibilidade: {recall_score(y_test, results, average='macro')}\")"
      ]
    },
    {
      "cell_type": "markdown",
      "source": [
        "A partir daí, a acurácia vai subindo gradualmente. Com C = 1, metade das classes (Fail, CC, BB e BA) estão razoáveis, algumas (DD e CB) estão muito boas, mas outras ainda continuam ruins. (DC e AA)"
      ],
      "metadata": {
        "id": "mljN6zQWf-6L"
      }
    },
    {
      "cell_type": "code",
      "execution_count": 21,
      "metadata": {
        "id": "xYgQwazPf5T3",
        "colab": {
          "base_uri": "https://localhost:8080/",
          "height": 331
        },
        "outputId": "2c287861-e65e-43af-f990-11def848ff4f"
      },
      "outputs": [
        {
          "output_type": "display_data",
          "data": {
            "text/plain": [
              "<Figure size 432x288 with 2 Axes>"
            ],
            "image/png": "[encoded data removed]"
          },
          "metadata": {
            "needs_background": "light"
          }
        },
        {
          "output_type": "stream",
          "name": "stdout",
          "text": [
            "Acurácia: 0.6881720430107527\n",
            "Precisão: 0.8265016233766234\n",
            "Sensibilidade: 0.6884469696969697\n"
          ]
        }
      ],
      "source": [
        "params[2].update({\"C\": 2.7})\n",
        "\n",
        "svc = SVC(**params[2])\n",
        "svc.fit(x_train, y_train)\n",
        "results = svc.predict(x_test)\n",
        "\n",
        "cm3 = confusion_matrix(y_test, results)\n",
        "ConfusionMatrixDisplay(confusion_matrix=cm3, display_labels=classes).plot()\n",
        "plt.show()\n",
        "\n",
        "print(f\"Acurácia: {accuracy_score(y_test, results)}\")\n",
        "print(f\"Precisão: {precision_score(y_test, results, average='macro')}\")\n",
        "print(f\"Sensibilidade: {recall_score(y_test, results, average='macro')}\")"
      ]
    },
    {
      "cell_type": "markdown",
      "metadata": {
        "id": "b3EPJMPelEkt"
      },
      "source": [
        "\n",
        "E vai subindo gradualmente até chegar na região de máxima, quando o C está >= 2.7, evidenciando a existência de um C otimizado que garante o melhor resultado (para os parâmetros, base e random_state utilizados)."
      ]
    },
    {
      "cell_type": "markdown",
      "metadata": {
        "id": "Vb8itJmqf5T3"
      },
      "source": [
        "## 2: Utilizando a mesma base de dados da questão anterior, agrupe, avalie e compare, com uma métrica de avaliação, as instâncias utilizando os seguintes métodos de clusterização:"
      ]
    },
    {
      "cell_type": "markdown",
      "metadata": {
        "id": "XVz3MnXXf5T3"
      },
      "source": [
        "### a) k-means, com k = 5 e k = 7."
      ]
    },
    {
      "cell_type": "code",
      "execution_count": 22,
      "metadata": {
        "id": "5f_4m-oprJGs",
        "colab": {
          "base_uri": "https://localhost:8080/"
        },
        "outputId": "26d93d2e-10aa-4b85-e4ca-bf0c53c988aa"
      },
      "outputs": [
        {
          "output_type": "stream",
          "name": "stdout",
          "text": [
            "Silhueta: 0.10379467437300212\n",
            "Completude: 0.14358707515809258\n"
          ]
        }
      ],
      "source": [
        "import pandas as pd\n",
        "from sklearn.metrics import homogeneity_score, silhouette_score\n",
        "from sklearn.cluster import KMeans\n",
        "\n",
        "x_cluster = pd.concat([x_train, x_test])\n",
        "y_cluster = pd.concat([y_train, y_test])\n",
        "\n",
        "kmeans5 = KMeans(n_clusters=5, random_state=603)\n",
        "kmeans5.fit_predict(x_cluster)\n",
        "\n",
        "# plt.scatter(x_cluster[\"CUML_GPA\"], y_cluster, c=kmeans5.labels_)\n",
        "# plt.scatter(kmeans5.cluster_centers_[:, 0], kmeans5.cluster_centers_[:, 1], s=200, color=\"red\")\n",
        "# plt.show()\n",
        "\n",
        "print(f\"Silhueta: {silhouette_score(x_cluster, kmeans5.labels_)}\")\n",
        "print(f\"Completude: {homogeneity_score(y_cluster, kmeans5.labels_)}\")"
      ]
    },
    {
      "cell_type": "markdown",
      "source": [
        "Com ambos silhueta e completude fracos, esse método não conseguiu separar muito bem os clusters nem separar um cluster para cada classe."
      ],
      "metadata": {
        "id": "XizGO3_iG4tW"
      }
    },
    {
      "cell_type": "code",
      "execution_count": 23,
      "metadata": {
        "id": "kHoufbEwrKxF",
        "colab": {
          "base_uri": "https://localhost:8080/"
        },
        "outputId": "e774577f-30bb-4bb1-d69b-2d3ec4f21c1e"
      },
      "outputs": [
        {
          "output_type": "stream",
          "name": "stdout",
          "text": [
            "Silhueta: 0.10795281831418005\n",
            "Completude: 0.15817505978653387\n"
          ]
        }
      ],
      "source": [
        "kmeans7 = KMeans(n_clusters=7, random_state=603)\n",
        "kmeans7.fit_predict(x_cluster)\n",
        "\n",
        "print(f\"Silhueta: {silhouette_score(x_cluster, kmeans7.labels_)}\")\n",
        "print(f\"Completude: {homogeneity_score(y_cluster, kmeans7.labels_)}\")"
      ]
    },
    {
      "cell_type": "markdown",
      "metadata": {
        "id": "MdHqIqY5-v-O"
      },
      "source": [
        "Os resultados com k = 7 foram melhores, ainda que bem levemente, acredito que devido à amostra original ter 8 grupos."
      ]
    },
    {
      "cell_type": "markdown",
      "metadata": {
        "id": "cfGsUlSaf5T3"
      },
      "source": [
        "### b) Hierárquico, para 5 e 7 grupos e com 2 tipos diferentes de linkage."
      ]
    },
    {
      "cell_type": "markdown",
      "source": [
        "Serão usados os tipos de *linkage* \"single\", que considera a mínima distância entre 2 pontos de um cluster, e \"ward\", que considera a variância entre os clusters."
      ],
      "metadata": {
        "id": "3ATsdV3CyglZ"
      }
    },
    {
      "cell_type": "code",
      "execution_count": 24,
      "metadata": {
        "id": "Tlim8tOPrM_x",
        "colab": {
          "base_uri": "https://localhost:8080/"
        },
        "outputId": "fd908448-5084-4e7e-a76e-25c09eb7f2b9"
      },
      "outputs": [
        {
          "output_type": "stream",
          "name": "stdout",
          "text": [
            "Silhueta: 0.05891742617644548\n",
            "Completude: 0.015573441434943809\n"
          ]
        }
      ],
      "source": [
        "from sklearn.cluster import AgglomerativeClustering\n",
        "\n",
        "hierarchical5single = AgglomerativeClustering(n_clusters=5, linkage=\"single\")\n",
        "hierarchical5single.fit_predict(x_cluster)\n",
        "\n",
        "print(f\"Silhueta: {silhouette_score(x_cluster, hierarchical5single.labels_)}\")\n",
        "print(f\"Completude: {homogeneity_score(y_cluster, hierarchical5single.labels_)}\")"
      ]
    },
    {
      "cell_type": "markdown",
      "source": [
        "Com 5 clusters, os resultados para o método hierárquico foram piores que o método k-means. Houve bem mais sobreposição e muitos clusters receberam outras classes além de sua \"nominal\"."
      ],
      "metadata": {
        "id": "UZOuayaJzPSp"
      }
    },
    {
      "cell_type": "code",
      "execution_count": 25,
      "metadata": {
        "id": "rgzNt2WJrN5Z",
        "colab": {
          "base_uri": "https://localhost:8080/"
        },
        "outputId": "5426e650-fdc6-485d-e60a-1191be8e84e2"
      },
      "outputs": [
        {
          "output_type": "stream",
          "name": "stdout",
          "text": [
            "Silhueta: 0.01996252075184436\n",
            "Completude: 0.022794004426366362\n"
          ]
        }
      ],
      "source": [
        "hierarchical7single = AgglomerativeClustering(n_clusters=7, linkage=\"single\")\n",
        "hierarchical7single.fit_predict(x_cluster)\n",
        "\n",
        "print(f\"Silhueta: {silhouette_score(x_cluster, hierarchical7single.labels_)}\")\n",
        "print(f\"Completude: {homogeneity_score(y_cluster, hierarchical7single.labels_)}\")"
      ]
    },
    {
      "cell_type": "markdown",
      "source": [
        "Com 7 clusters, os resultados foram os piores até agora. Houeve cerca de 70% mais sobreposição do que com 5 clusters, apesar dele ter misturado menos classes nos mesmos clusters."
      ],
      "metadata": {
        "id": "hT0L80ATzPz4"
      }
    },
    {
      "cell_type": "code",
      "execution_count": 26,
      "metadata": {
        "id": "heUtzbsArPVh",
        "colab": {
          "base_uri": "https://localhost:8080/"
        },
        "outputId": "cc7d067d-2a22-4bbd-cd7d-8aa2749ffa76"
      },
      "outputs": [
        {
          "output_type": "stream",
          "name": "stdout",
          "text": [
            "Silhueta: 0.08443643245267653\n",
            "Completude: 0.14731986385717535\n"
          ]
        }
      ],
      "source": [
        "hierarchical5ward = AgglomerativeClustering(n_clusters=5, linkage=\"ward\")\n",
        "hierarchical5ward.fit_predict(x_cluster)\n",
        "\n",
        "print(f\"Silhueta: {silhouette_score(x_cluster, hierarchical5ward.labels_)}\")\n",
        "print(f\"Completude: {homogeneity_score(y_cluster, hierarchical5ward.labels_)}\")"
      ]
    },
    {
      "cell_type": "code",
      "execution_count": 27,
      "metadata": {
        "id": "9Ag3a1O9rQkK",
        "colab": {
          "base_uri": "https://localhost:8080/"
        },
        "outputId": "e035d3da-e5c6-4e17-83f1-49d5907ba896"
      },
      "outputs": [
        {
          "output_type": "stream",
          "name": "stdout",
          "text": [
            "Silhueta: 0.08579078615306826\n",
            "Completude: 0.18659413359784083\n"
          ]
        }
      ],
      "source": [
        "hierarchical7ward = AgglomerativeClustering(n_clusters=7, linkage=\"ward\")\n",
        "hierarchical7ward.fit_predict(x_cluster)\n",
        "\n",
        "print(f\"Silhueta: {silhouette_score(x_cluster, hierarchical7ward.labels_)}\")\n",
        "print(f\"Completude: {homogeneity_score(y_cluster, hierarchical7ward.labels_)}\")"
      ]
    },
    {
      "cell_type": "markdown",
      "source": [
        "Ambos 5 e 7 clusters com *linkage* \"ward\" tiveram resultados melhores que \"single\", mas ainda piores que o k-means e longe de serem sequer aceitáveis. Neste caso também o teste com 7 clusters se provou mais bem-sucedido."
      ],
      "metadata": {
        "id": "Netnc9rLzQ8Y"
      }
    },
    {
      "cell_type": "markdown",
      "metadata": {
        "id": "ctONiNgkf5T4"
      },
      "source": [
        "## 3: Quais são as vantagens e desvantagens de utilizar a biblioteca AutoML? Como você faria para usá-la, garantindo os melhores resultados possíveis?"
      ]
    }
  ],
  "metadata": {
    "colab": {
      "collapsed_sections": [],
      "name": "prova2.ipynb",
      "provenance": []
    },
    "interpreter": {
      "hash": "916dbcbb3f70747c44a77c7bcd40155683ae19c65e1c03b4aa3499c5328201f1"
    },
    "kernelspec": {
      "display_name": "Python 3.10.4 64-bit",
      "language": "python",
      "name": "python3"
    },
    "language_info": {
      "codemirror_mode": {
        "name": "ipython",
        "version": 3
      },
      "file_extension": ".py",
      "mimetype": "text/x-python",
      "name": "python",
      "nbconvert_exporter": "python",
      "pygments_lexer": "ipython3",
      "version": "3.10.4"
    }
  },
  "nbformat": 4,
  "nbformat_minor": 0
}