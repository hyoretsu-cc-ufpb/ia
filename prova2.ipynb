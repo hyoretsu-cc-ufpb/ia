{
 "cells": [
  {
   "cell_type": "markdown",
   "metadata": {},
   "source": [
    "## 1: Elabore uma solução para identificar o OUTPUT Grade do estudante."
   ]
  },
  {
   "cell_type": "markdown",
   "metadata": {},
   "source": [
    "### a) Faça o pré-processamento dos dados (limpeza, engenharia de variáveis, etc). Utilize pelo menos uma forma de redimensionamento de atributos (selecionando ou agregando) e utilize ambas as amostras para avaliar os resultados."
   ]
  },
  {
   "cell_type": "markdown",
   "metadata": {},
   "source": [
    "### b) Faça uma análise exploratória dos dados de saída, utilizando box plot e aplicando undersampling ou oversampling caso preciso."
   ]
  },
  {
   "cell_type": "markdown",
   "metadata": {},
   "source": [
    "### c) Utilize a biblioteca AutoML para fazer a previsão, com validação cruzada estratificada 10-fold e \"random_state\" fixo. Identifique o algoritmo que teve o melhor resultado e teste 3 variações de um dos seus hiperparâmetros. Avalie os resultados com matrizes de confusão e 2 métricas de sua preferência."
   ]
  },
  {
   "cell_type": "markdown",
   "metadata": {},
   "source": [
    "## 2: Utilizando a mesma base de dados da questão anterior:"
   ]
  },
  {
   "cell_type": "markdown",
   "metadata": {},
   "source": [
    "### a) Agrupe os resultados através do método k-means, com k = 5 e k = 7."
   ]
  },
  {
   "cell_type": "markdown",
   "metadata": {},
   "source": [
    "### b) Agrupe os resultados através do método hierárquico, para 5 e 7 grupos e com 2 tipos diferentes de linkage."
   ]
  },
  {
   "cell_type": "markdown",
   "metadata": {},
   "source": [
    "### c) Compare os resultados das execuções anteriores e avalie uma métrica de avaliação para clusterização."
   ]
  },
  {
   "cell_type": "markdown",
   "metadata": {},
   "source": [
    "## 3: Quais são as vantagens e desvantagens de utilizar a biblioteca AutoML? Como você faria para usá-la, garantindo os melhores resultados possíveis?"
   ]
  }
 ],
 "metadata": {
  "interpreter": {
   "hash": "916dbcbb3f70747c44a77c7bcd40155683ae19c65e1c03b4aa3499c5328201f1"
  },
  "kernelspec": {
   "display_name": "Python 3.10.4 64-bit",
   "language": "python",
   "name": "python3"
  },
  "language_info": {
   "codemirror_mode": {
    "name": "ipython",
    "version": 3
   },
   "file_extension": ".py",
   "mimetype": "text/x-python",
   "name": "python",
   "nbconvert_exporter": "python",
   "pygments_lexer": "ipython3",
   "version": "3.10.4"
  },
  "orig_nbformat": 4
 },
 "nbformat": 4,
 "nbformat_minor": 2
}
