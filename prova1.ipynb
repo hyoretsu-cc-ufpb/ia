{
 "cells": [
  {
   "cell_type": "markdown",
   "metadata": {},
   "source": [
    "## 1: Desenvolva uma descrição completando a tabela abaixo sobre o ambiente de tarefas de cada um dos agentes a seguir. \n",
    "\n",
    "> (A) Agente comentarista de jogo\n",
    ">\n",
    "> (B) Agente sugestor de vinho\n",
    ">\n",
    "> (C) Agente treinador de time, ex. de basquete"
   ]
  },
  {
   "cell_type": "markdown",
   "metadata": {},
   "source": [
    "| Agentes | Medida de desempenho | Ambiente | Atuadores | Sensores |\n",
    "|---------|----------------------|----------|-----------|----------|\n",
    "| A | Popularidade de seus comentários | Campeonatos, partidas ou noticiários sobre jogos | Comentar, analisar e comparar jogadas, partidas e jogadores | Dados, gravações, áudios do jogo |\n",
    "| B | Classificação de desempenho pelos clientes | Lojas ou fábricas de vinho | Encaminhar clientes para diferentes tipos de vinho | Histórias, gostos, pedidos do cliente |\n",
    "| C | Proporção de vitórias/derrotas do time | Clubes de esporte | Condicionar os jogadores, dar diferentes objetivos e rotinas para cumprirem | Estatísticas, resultados de treinos |"
   ]
  },
  {
   "cell_type": "markdown",
   "metadata": {},
   "source": [
    "## 2: Diferencie os 4 tipos de aprendizado de máquina. Para tanto, escolha uma base de dados do Kaggle e explique como aplicar os 4 métodos nessa mesma base."
   ]
  },
  {
   "cell_type": "markdown",
   "metadata": {},
   "source": [
    "## 3: Utilize o método k-NN na base escolhida na questão anterior para um contexto SUPERVISIONADO e para classificação."
   ]
  },
  {
   "cell_type": "markdown",
   "metadata": {},
   "source": [
    "### a) Aplique processos necessários para o pré-processamento e execução do método k-NN."
   ]
  },
  {
   "cell_type": "markdown",
   "metadata": {},
   "source": [
    "### b) Aplique correlação ou PCA, selecione um número menor de atributos com esses métodos e justifique sua decisão."
   ]
  },
  {
   "cell_type": "markdown",
   "metadata": {},
   "source": [
    "### c) Escolha 5 valores de K e mostre os resultados (escolha 3 métricas de avaliação e mostre a matriz de confusão). Explique os resultados encontrados."
   ]
  },
  {
   "cell_type": "markdown",
   "metadata": {},
   "source": [
    "### d) Escolha 2 métricas de similaridade (diferentes distâncias ou outras métricas - correlação, por exemplo) para definir o(s) vizinho(s) mais próximos e explique os resultados encontrados."
   ]
  },
  {
   "cell_type": "markdown",
   "metadata": {},
   "source": [
    "### e) Aplique k-NN no conjunto de atributos do item 2 usando o melhor k e a melhor métrica de distância."
   ]
  },
  {
   "cell_type": "markdown",
   "metadata": {},
   "source": [
    "## 4: Considerando a matriz de confusão abaixo, quais são os valores das métricas listadas abaixo?\n",
    "\n",
    "Colunas: verdadeiras\n",
    "\n",
    "Linhas: preditas\n",
    "\n",
    "| Classes | Maçã | Laranja | Limão | Manga |\n",
    "|---------|------|---------|-------|-------|\n",
    "| Maçã    | 70   | 20      | 5     | 5     |\n",
    "| Laranja | 10   | 67      | 3     | 20    |\n",
    "| Limão   | 5    | 30      | 55    | 10    |\n",
    "| Manga   | 5    | 4       | 2     | 1000  |\n",
    "\n",
    "- Sensibilidade\n",
    "- Especificidade\n",
    "- Precisão\n",
    "- Medida F1\n",
    "- Acurácia\n",
    "- Coeficiente de Matthews\n",
    "- AUC"
   ]
  },
  {
   "cell_type": "markdown",
   "metadata": {},
   "source": [
    "### Como você resolveria o problema dessa base de dados observando as métricas de avaliação?"
   ]
  },
  {
   "cell_type": "markdown",
   "metadata": {},
   "source": [
    "## 5: Elabore uma pergunta e responda sobre \"Preconceito e Inteligência Artificial\", refletindo aspectos importantes do método que uma pessoa engenheiro de dados/cientista de dados deve conhecer e se preocupar garantindo ética nos modelos criados."
   ]
  }
 ],
 "metadata": {
  "interpreter": {
   "hash": "31f2aee4e71d21fbe5cf8b01ff0e069b9275f58929596ceb00d14d90e3e16cd6"
  },
  "kernelspec": {
   "display_name": "Python 3.9.5 64-bit",
   "language": "python",
   "name": "python3"
  },
  "language_info": {
   "codemirror_mode": {
    "name": "ipython",
    "version": 3
   },
   "file_extension": ".py",
   "mimetype": "text/x-python",
   "name": "python",
   "nbconvert_exporter": "python",
   "pygments_lexer": "ipython3",
   "version": "3.9.5"
  },
  "orig_nbformat": 4
 },
 "nbformat": 4,
 "nbformat_minor": 2
}
