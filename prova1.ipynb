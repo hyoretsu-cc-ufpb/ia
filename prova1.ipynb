{
 "cells": [
  {
   "cell_type": "markdown",
   "metadata": {},
   "source": [
    "## 1: Desenvolva uma descrição completando a tabela abaixo sobre o ambiente de tarefas de cada um dos agentes a seguir. \n",
    "\n",
    "> (A) Agente comentarista de jogo\n",
    ">\n",
    "> (B) Agente sugestor de vinho\n",
    ">\n",
    "> (C) Agente treinador de time, ex. de basquete"
   ]
  },
  {
   "cell_type": "markdown",
   "metadata": {},
   "source": [
    "| Agentes | Medida de desempenho | Ambiente | Atuadores | Sensores |\n",
    "|---------|----------------------|----------|-----------|----------|\n",
    "| A | Popularidade de seus comentários | Campeonatos, partidas ou noticiários sobre jogos | Comentar, analisar e comparar jogadas, partidas e jogadores | Dados, gravações, áudios do jogo |\n",
    "| B | Classificação de desempenho pelos clientes | Lojas ou fábricas de vinho | Encaminhar clientes para diferentes tipos de vinho | Histórias, gostos, pedidos do cliente |\n",
    "| C | Proporção de vitórias/derrotas do time | Clubes de esporte | Condicionar os jogadores, dar diferentes objetivos e rotinas para cumprirem | Estatísticas, resultados de treinos |"
   ]
  },
  {
   "cell_type": "markdown",
   "metadata": {},
   "source": [
    "## 2: Diferencie os 4 tipos de aprendizado de máquina. Para tanto, escolha uma base de dados do Kaggle e explique como aplicar os 4 métodos nessa mesma base."
   ]
  },
  {
   "cell_type": "markdown",
   "metadata": {},
   "source": [
    "## 3: Utilize o método k-NN na base escolhida na questão anterior para um contexto SUPERVISIONADO e para classificação."
   ]
  },
  {
   "cell_type": "markdown",
   "metadata": {},
   "source": [
    "### a) Aplique processos necessários para o pré-processamento e execução do método k-NN."
   ]
  },
  {
   "cell_type": "markdown",
   "metadata": {},
   "source": [
    "### b) Aplique correlação ou PCA, selecione um número menor de atributos com esses métodos e justifique sua decisão."
   ]
  },
  {
   "cell_type": "markdown",
   "metadata": {},
   "source": [
    "### c) Escolha 5 valores de K e mostre os resultados (escolha 3 métricas de avaliação e mostre a matriz de confusão). Explique os resultados encontrados."
   ]
  },
  {
   "cell_type": "markdown",
   "metadata": {},
   "source": [
    "### d) Escolha 2 métricas de similaridade (diferentes distâncias ou outras métricas - correlação, por exemplo) para definir o(s) vizinho(s) mais próximos e explique os resultados encontrados."
   ]
  },
  {
   "cell_type": "markdown",
   "metadata": {},
   "source": [
    "### e) Aplique k-NN no conjunto de atributos do item 2 usando o melhor k e a melhor métrica de distância."
   ]
  },
  {
   "cell_type": "markdown",
   "metadata": {},
   "source": [
    "## 4: Considerando a matriz de confusão abaixo, quais são os valores das métricas listadas abaixo?\n",
    "\n",
    "Colunas: verdadeiras\n",
    "\n",
    "Linhas: preditas\n",
    "\n",
    "| Classes | Maçã | Laranja | Limão | Manga |\n",
    "|---------|------|---------|-------|-------|\n",
    "| Maçã    | 70   | 20      | 5     | 5     |\n",
    "| Laranja | 10   | 67      | 3     | 20    |\n",
    "| Limão   | 5    | 30      | 55    | 10    |\n",
    "| Manga   | 5    | 4       | 2     | 1000  |"
   ]
  },
  {
   "cell_type": "code",
   "execution_count": 1,
   "metadata": {},
   "outputs": [],
   "source": [
    "from math import prod, sqrt\n",
    "from numpy import mean\n",
    "\n",
    "apple = {\"tp\": 70, \"tn\": 1122, \"fp\": 30, \"fn\": 20}\n",
    "orange = {\"tp\": 67, \"tn\": 1125, \"fp\": 33, \"fn\": 54}\n",
    "lemon = {\"tp\": 55, \"tn\": 1137, \"fp\": 45, \"fn\": 10}\n",
    "papaya = {\"tp\": 1000, \"tn\": 192, \"fp\": 11, \"fn\": 35}"
   ]
  },
  {
   "cell_type": "code",
   "execution_count": 2,
   "metadata": {},
   "outputs": [
    {
     "name": "stdout",
     "output_type": "stream",
     "text": [
      "Sensibilidade: 0.786\n"
     ]
    }
   ],
   "source": [
    "def sensitivity(classe: dict[str, int]):\n",
    "    return classe[\"tp\"] / (classe[\"tp\"] + classe[\"fn\"])\n",
    "\n",
    "print(f\"Sensibilidade: {mean([sensitivity(apple), sensitivity(orange), sensitivity(lemon), sensitivity(papaya)]):.3f}\")"
   ]
  },
  {
   "cell_type": "code",
   "execution_count": 3,
   "metadata": {},
   "outputs": [
    {
     "name": "stdout",
     "output_type": "stream",
     "text": [
      "Especificidade: 0.963\n"
     ]
    }
   ],
   "source": [
    "def specificity(classe: dict[str, int]):\n",
    "    return classe[\"tn\"] / (classe[\"tn\"] + classe[\"fp\"])\n",
    "\n",
    "print(f\"Especificidade: {mean([specificity(apple), specificity(orange), specificity(lemon), specificity(papaya)]):.3f}\")"
   ]
  },
  {
   "cell_type": "code",
   "execution_count": 4,
   "metadata": {},
   "outputs": [
    {
     "name": "stdout",
     "output_type": "stream",
     "text": [
      "Precisão: 0.727\n"
     ]
    }
   ],
   "source": [
    "def precision(classe: dict[str, int]):\n",
    "    return classe[\"tp\"] / (classe[\"tp\"] + classe[\"fp\"])\n",
    "\n",
    "print(f\"Precisão: {mean([precision(apple), precision(orange), precision(lemon), precision(papaya)]):.3f}\")"
   ]
  },
  {
   "cell_type": "code",
   "execution_count": 5,
   "metadata": {},
   "outputs": [
    {
     "name": "stdout",
     "output_type": "stream",
     "text": [
      "Medida F1: 0.747\n"
     ]
    }
   ],
   "source": [
    "def f1_score(classe: dict[str, int]):\n",
    "    precisionRecall = [precision(classe), sensitivity(classe)]\n",
    "    return 2 * (prod(precisionRecall) / sum(precisionRecall))\n",
    "\n",
    "\n",
    "print(f\"Medida F1: {mean([f1_score(apple), f1_score(orange), f1_score(lemon), f1_score(papaya)]):.3f}\")"
   ]
  },
  {
   "cell_type": "code",
   "execution_count": 6,
   "metadata": {},
   "outputs": [
    {
     "name": "stdout",
     "output_type": "stream",
     "text": [
      "Acurácia: 0.953\n"
     ]
    }
   ],
   "source": [
    "def accuracy(classe: dict[str, int]):\n",
    "    return (classe[\"tp\"] + classe[\"tn\"]) / sum(classe.values())\n",
    "\n",
    "print(f\"Acurácia: {mean([accuracy(apple), accuracy(orange), accuracy(lemon), accuracy(papaya)]):.3f}\")"
   ]
  },
  {
   "cell_type": "code",
   "execution_count": 7,
   "metadata": {},
   "outputs": [
    {
     "name": "stdout",
     "output_type": "stream",
     "text": [
      "Coeficiente de Matthews: 0.706\n"
     ]
    }
   ],
   "source": [
    "def matthews_coef(classe: dict[str, int]):\n",
    "    return (classe[\"tp\"] * classe[\"tn\"] - classe[\"fp\"] * classe[\"fn\"]) / sqrt((classe[\"tp\"] + classe[\"fp\"]) * (classe[\"tp\"] + classe[\"fn\"]) * (classe[\"tn\"] + classe[\"fp\"]) * (classe[\"tn\"] + classe[\"fn\"]))\n",
    "\n",
    "print(f\"Coeficiente de Matthews: {mean([matthews_coef(apple), matthews_coef(orange), matthews_coef(lemon), matthews_coef(papaya)]):.3f}\")"
   ]
  },
  {
   "cell_type": "code",
   "execution_count": 8,
   "metadata": {},
   "outputs": [
    {
     "name": "stdout",
     "output_type": "stream",
     "text": [
      "AUC: 0.875\n"
     ]
    }
   ],
   "source": [
    "def fallOut(classe: dict[str, int]):\n",
    "    return classe[\"fp\"] / (classe[\"fp\"] + classe[\"tn\"])\n",
    "\n",
    "\n",
    "def auc(classe: dict[str, int]):\n",
    "    \"\"\"\n",
    "    Area of a triangle + area of a trapezium\n",
    "\n",
    "    Credits:https://stackoverflow.com/a/50892759/8209582\n",
    "    \"\"\"\n",
    "    # return (sensitivity(classe) - specificity(classe)) / 2\n",
    "    return 1 / 2 - fallOut(classe) / 2 + sensitivity(classe) / 2\n",
    "\n",
    "\n",
    "print(f\"AUC: {mean([auc(apple), auc(orange), auc(lemon), auc(papaya)]):.3f}\")"
   ]
  },
  {
   "cell_type": "markdown",
   "metadata": {},
   "source": [
    "### Como você resolveria o problema dessa base de dados observando as métricas de avaliação?"
   ]
  },
  {
   "cell_type": "markdown",
   "metadata": {},
   "source": [
    "## 5: Elabore uma pergunta e responda sobre \"Preconceito e Inteligência Artificial\", refletindo aspectos importantes do método que uma pessoa engenheiro de dados/cientista de dados deve conhecer e se preocupar garantindo ética nos modelos criados."
   ]
  }
 ],
 "metadata": {
  "interpreter": {
   "hash": "31f2aee4e71d21fbe5cf8b01ff0e069b9275f58929596ceb00d14d90e3e16cd6"
  },
  "kernelspec": {
   "display_name": "Python 3.9.5 64-bit",
   "language": "python",
   "name": "python3"
  },
  "language_info": {
   "codemirror_mode": {
    "name": "ipython",
    "version": 3
   },
   "file_extension": ".py",
   "mimetype": "text/x-python",
   "name": "python",
   "nbconvert_exporter": "python",
   "pygments_lexer": "ipython3",
   "version": "3.9.5"
  },
  "orig_nbformat": 4
 },
 "nbformat": 4,
 "nbformat_minor": 2
}
